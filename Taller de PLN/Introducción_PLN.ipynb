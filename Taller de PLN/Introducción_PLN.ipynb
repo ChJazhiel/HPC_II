{
  "nbformat": 4,
  "nbformat_minor": 0,
  "metadata": {
    "colab": {
      "provenance": []
    },
    "kernelspec": {
      "name": "python3",
      "display_name": "Python 3"
    },
    "language_info": {
      "name": "python"
    },
    "widgets": {
      "application/vnd.jupyter.widget-state+json": {
        "7852c1bd84b34daa9be3050b50a3da9d": {
          "model_module": "@jupyter-widgets/controls",
          "model_name": "HBoxModel",
          "model_module_version": "1.5.0",
          "state": {
            "_dom_classes": [],
            "_model_module": "@jupyter-widgets/controls",
            "_model_module_version": "1.5.0",
            "_model_name": "HBoxModel",
            "_view_count": null,
            "_view_module": "@jupyter-widgets/controls",
            "_view_module_version": "1.5.0",
            "_view_name": "HBoxView",
            "box_style": "",
            "children": [
              "IPY_MODEL_d4a7b063f87a4f6883c0888476292cce",
              "IPY_MODEL_77ea2c2b240748d2b76b843a8be0cdae",
              "IPY_MODEL_e73cde4f919844a491f98c6c7305c715"
            ],
            "layout": "IPY_MODEL_1ffc6a0de69e446995fd07d6aa3d82a6"
          }
        },
        "d4a7b063f87a4f6883c0888476292cce": {
          "model_module": "@jupyter-widgets/controls",
          "model_name": "HTMLModel",
          "model_module_version": "1.5.0",
          "state": {
            "_dom_classes": [],
            "_model_module": "@jupyter-widgets/controls",
            "_model_module_version": "1.5.0",
            "_model_name": "HTMLModel",
            "_view_count": null,
            "_view_module": "@jupyter-widgets/controls",
            "_view_module_version": "1.5.0",
            "_view_name": "HTMLView",
            "description": "",
            "description_tooltip": null,
            "layout": "IPY_MODEL_0fdf3e729a0647f4898dce5297e399f9",
            "placeholder": "​",
            "style": "IPY_MODEL_cd4c6110d9c34943946a66bff77a1703",
            "value": "Downloading https://raw.githubusercontent.com/stanfordnlp/stanza-resources/main/resources_1.5.0.json: "
          }
        },
        "77ea2c2b240748d2b76b843a8be0cdae": {
          "model_module": "@jupyter-widgets/controls",
          "model_name": "FloatProgressModel",
          "model_module_version": "1.5.0",
          "state": {
            "_dom_classes": [],
            "_model_module": "@jupyter-widgets/controls",
            "_model_module_version": "1.5.0",
            "_model_name": "FloatProgressModel",
            "_view_count": null,
            "_view_module": "@jupyter-widgets/controls",
            "_view_module_version": "1.5.0",
            "_view_name": "ProgressView",
            "bar_style": "success",
            "description": "",
            "description_tooltip": null,
            "layout": "IPY_MODEL_5e9b1c05c5464838b8e42619607ecd35",
            "max": 30101,
            "min": 0,
            "orientation": "horizontal",
            "style": "IPY_MODEL_73cbdc7e2e3443ee8f5d8a76086ac188",
            "value": 30101
          }
        },
        "e73cde4f919844a491f98c6c7305c715": {
          "model_module": "@jupyter-widgets/controls",
          "model_name": "HTMLModel",
          "model_module_version": "1.5.0",
          "state": {
            "_dom_classes": [],
            "_model_module": "@jupyter-widgets/controls",
            "_model_module_version": "1.5.0",
            "_model_name": "HTMLModel",
            "_view_count": null,
            "_view_module": "@jupyter-widgets/controls",
            "_view_module_version": "1.5.0",
            "_view_name": "HTMLView",
            "description": "",
            "description_tooltip": null,
            "layout": "IPY_MODEL_8f74925945624615b982007a83b8c7ab",
            "placeholder": "​",
            "style": "IPY_MODEL_6d35ec889c9641eca08f039826d810a4",
            "value": " 216k/? [00:00&lt;00:00, 3.09MB/s]"
          }
        },
        "1ffc6a0de69e446995fd07d6aa3d82a6": {
          "model_module": "@jupyter-widgets/base",
          "model_name": "LayoutModel",
          "model_module_version": "1.2.0",
          "state": {
            "_model_module": "@jupyter-widgets/base",
            "_model_module_version": "1.2.0",
            "_model_name": "LayoutModel",
            "_view_count": null,
            "_view_module": "@jupyter-widgets/base",
            "_view_module_version": "1.2.0",
            "_view_name": "LayoutView",
            "align_content": null,
            "align_items": null,
            "align_self": null,
            "border": null,
            "bottom": null,
            "display": null,
            "flex": null,
            "flex_flow": null,
            "grid_area": null,
            "grid_auto_columns": null,
            "grid_auto_flow": null,
            "grid_auto_rows": null,
            "grid_column": null,
            "grid_gap": null,
            "grid_row": null,
            "grid_template_areas": null,
            "grid_template_columns": null,
            "grid_template_rows": null,
            "height": null,
            "justify_content": null,
            "justify_items": null,
            "left": null,
            "margin": null,
            "max_height": null,
            "max_width": null,
            "min_height": null,
            "min_width": null,
            "object_fit": null,
            "object_position": null,
            "order": null,
            "overflow": null,
            "overflow_x": null,
            "overflow_y": null,
            "padding": null,
            "right": null,
            "top": null,
            "visibility": null,
            "width": null
          }
        },
        "0fdf3e729a0647f4898dce5297e399f9": {
          "model_module": "@jupyter-widgets/base",
          "model_name": "LayoutModel",
          "model_module_version": "1.2.0",
          "state": {
            "_model_module": "@jupyter-widgets/base",
            "_model_module_version": "1.2.0",
            "_model_name": "LayoutModel",
            "_view_count": null,
            "_view_module": "@jupyter-widgets/base",
            "_view_module_version": "1.2.0",
            "_view_name": "LayoutView",
            "align_content": null,
            "align_items": null,
            "align_self": null,
            "border": null,
            "bottom": null,
            "display": null,
            "flex": null,
            "flex_flow": null,
            "grid_area": null,
            "grid_auto_columns": null,
            "grid_auto_flow": null,
            "grid_auto_rows": null,
            "grid_column": null,
            "grid_gap": null,
            "grid_row": null,
            "grid_template_areas": null,
            "grid_template_columns": null,
            "grid_template_rows": null,
            "height": null,
            "justify_content": null,
            "justify_items": null,
            "left": null,
            "margin": null,
            "max_height": null,
            "max_width": null,
            "min_height": null,
            "min_width": null,
            "object_fit": null,
            "object_position": null,
            "order": null,
            "overflow": null,
            "overflow_x": null,
            "overflow_y": null,
            "padding": null,
            "right": null,
            "top": null,
            "visibility": null,
            "width": null
          }
        },
        "cd4c6110d9c34943946a66bff77a1703": {
          "model_module": "@jupyter-widgets/controls",
          "model_name": "DescriptionStyleModel",
          "model_module_version": "1.5.0",
          "state": {
            "_model_module": "@jupyter-widgets/controls",
            "_model_module_version": "1.5.0",
            "_model_name": "DescriptionStyleModel",
            "_view_count": null,
            "_view_module": "@jupyter-widgets/base",
            "_view_module_version": "1.2.0",
            "_view_name": "StyleView",
            "description_width": ""
          }
        },
        "5e9b1c05c5464838b8e42619607ecd35": {
          "model_module": "@jupyter-widgets/base",
          "model_name": "LayoutModel",
          "model_module_version": "1.2.0",
          "state": {
            "_model_module": "@jupyter-widgets/base",
            "_model_module_version": "1.2.0",
            "_model_name": "LayoutModel",
            "_view_count": null,
            "_view_module": "@jupyter-widgets/base",
            "_view_module_version": "1.2.0",
            "_view_name": "LayoutView",
            "align_content": null,
            "align_items": null,
            "align_self": null,
            "border": null,
            "bottom": null,
            "display": null,
            "flex": null,
            "flex_flow": null,
            "grid_area": null,
            "grid_auto_columns": null,
            "grid_auto_flow": null,
            "grid_auto_rows": null,
            "grid_column": null,
            "grid_gap": null,
            "grid_row": null,
            "grid_template_areas": null,
            "grid_template_columns": null,
            "grid_template_rows": null,
            "height": null,
            "justify_content": null,
            "justify_items": null,
            "left": null,
            "margin": null,
            "max_height": null,
            "max_width": null,
            "min_height": null,
            "min_width": null,
            "object_fit": null,
            "object_position": null,
            "order": null,
            "overflow": null,
            "overflow_x": null,
            "overflow_y": null,
            "padding": null,
            "right": null,
            "top": null,
            "visibility": null,
            "width": null
          }
        },
        "73cbdc7e2e3443ee8f5d8a76086ac188": {
          "model_module": "@jupyter-widgets/controls",
          "model_name": "ProgressStyleModel",
          "model_module_version": "1.5.0",
          "state": {
            "_model_module": "@jupyter-widgets/controls",
            "_model_module_version": "1.5.0",
            "_model_name": "ProgressStyleModel",
            "_view_count": null,
            "_view_module": "@jupyter-widgets/base",
            "_view_module_version": "1.2.0",
            "_view_name": "StyleView",
            "bar_color": null,
            "description_width": ""
          }
        },
        "8f74925945624615b982007a83b8c7ab": {
          "model_module": "@jupyter-widgets/base",
          "model_name": "LayoutModel",
          "model_module_version": "1.2.0",
          "state": {
            "_model_module": "@jupyter-widgets/base",
            "_model_module_version": "1.2.0",
            "_model_name": "LayoutModel",
            "_view_count": null,
            "_view_module": "@jupyter-widgets/base",
            "_view_module_version": "1.2.0",
            "_view_name": "LayoutView",
            "align_content": null,
            "align_items": null,
            "align_self": null,
            "border": null,
            "bottom": null,
            "display": null,
            "flex": null,
            "flex_flow": null,
            "grid_area": null,
            "grid_auto_columns": null,
            "grid_auto_flow": null,
            "grid_auto_rows": null,
            "grid_column": null,
            "grid_gap": null,
            "grid_row": null,
            "grid_template_areas": null,
            "grid_template_columns": null,
            "grid_template_rows": null,
            "height": null,
            "justify_content": null,
            "justify_items": null,
            "left": null,
            "margin": null,
            "max_height": null,
            "max_width": null,
            "min_height": null,
            "min_width": null,
            "object_fit": null,
            "object_position": null,
            "order": null,
            "overflow": null,
            "overflow_x": null,
            "overflow_y": null,
            "padding": null,
            "right": null,
            "top": null,
            "visibility": null,
            "width": null
          }
        },
        "6d35ec889c9641eca08f039826d810a4": {
          "model_module": "@jupyter-widgets/controls",
          "model_name": "DescriptionStyleModel",
          "model_module_version": "1.5.0",
          "state": {
            "_model_module": "@jupyter-widgets/controls",
            "_model_module_version": "1.5.0",
            "_model_name": "DescriptionStyleModel",
            "_view_count": null,
            "_view_module": "@jupyter-widgets/base",
            "_view_module_version": "1.2.0",
            "_view_name": "StyleView",
            "description_width": ""
          }
        }
      }
    }
  },
  "cells": [
    {
      "cell_type": "markdown",
      "source": [
        "# Detección de SPAM\n",
        "Diana Laura Jiménez López\n",
        "\n"
      ],
      "metadata": {
        "id": "gOMB-R7nFz03"
      }
    },
    {
      "cell_type": "code",
      "source": [
        "!pip install stanza #instalamos la paquería stanza si no está"
      ],
      "metadata": {
        "colab": {
          "base_uri": "https://localhost:8080/"
        },
        "id": "3TlK1B2tVQsH",
        "outputId": "ee9b6b12-7ff0-43df-ec52-9633dd93e341"
      },
      "execution_count": null,
      "outputs": [
        {
          "output_type": "stream",
          "name": "stdout",
          "text": [
            "Requirement already satisfied: stanza in /usr/local/lib/python3.10/dist-packages (1.5.0)\n",
            "Requirement already satisfied: emoji in /usr/local/lib/python3.10/dist-packages (from stanza) (2.7.0)\n",
            "Requirement already satisfied: numpy in /usr/local/lib/python3.10/dist-packages (from stanza) (1.23.5)\n",
            "Requirement already satisfied: protobuf in /usr/local/lib/python3.10/dist-packages (from stanza) (3.20.3)\n",
            "Requirement already satisfied: requests in /usr/local/lib/python3.10/dist-packages (from stanza) (2.31.0)\n",
            "Requirement already satisfied: six in /usr/local/lib/python3.10/dist-packages (from stanza) (1.16.0)\n",
            "Requirement already satisfied: torch>=1.3.0 in /usr/local/lib/python3.10/dist-packages (from stanza) (2.0.1+cu118)\n",
            "Requirement already satisfied: tqdm in /usr/local/lib/python3.10/dist-packages (from stanza) (4.66.1)\n",
            "Requirement already satisfied: filelock in /usr/local/lib/python3.10/dist-packages (from torch>=1.3.0->stanza) (3.12.2)\n",
            "Requirement already satisfied: typing-extensions in /usr/local/lib/python3.10/dist-packages (from torch>=1.3.0->stanza) (4.7.1)\n",
            "Requirement already satisfied: sympy in /usr/local/lib/python3.10/dist-packages (from torch>=1.3.0->stanza) (1.12)\n",
            "Requirement already satisfied: networkx in /usr/local/lib/python3.10/dist-packages (from torch>=1.3.0->stanza) (3.1)\n",
            "Requirement already satisfied: jinja2 in /usr/local/lib/python3.10/dist-packages (from torch>=1.3.0->stanza) (3.1.2)\n",
            "Requirement already satisfied: triton==2.0.0 in /usr/local/lib/python3.10/dist-packages (from torch>=1.3.0->stanza) (2.0.0)\n",
            "Requirement already satisfied: cmake in /usr/local/lib/python3.10/dist-packages (from triton==2.0.0->torch>=1.3.0->stanza) (3.27.2)\n",
            "Requirement already satisfied: lit in /usr/local/lib/python3.10/dist-packages (from triton==2.0.0->torch>=1.3.0->stanza) (16.0.6)\n",
            "Requirement already satisfied: charset-normalizer<4,>=2 in /usr/local/lib/python3.10/dist-packages (from requests->stanza) (3.2.0)\n",
            "Requirement already satisfied: idna<4,>=2.5 in /usr/local/lib/python3.10/dist-packages (from requests->stanza) (3.4)\n",
            "Requirement already satisfied: urllib3<3,>=1.21.1 in /usr/local/lib/python3.10/dist-packages (from requests->stanza) (2.0.4)\n",
            "Requirement already satisfied: certifi>=2017.4.17 in /usr/local/lib/python3.10/dist-packages (from requests->stanza) (2023.7.22)\n",
            "Requirement already satisfied: MarkupSafe>=2.0 in /usr/local/lib/python3.10/dist-packages (from jinja2->torch>=1.3.0->stanza) (2.1.3)\n",
            "Requirement already satisfied: mpmath>=0.19 in /usr/local/lib/python3.10/dist-packages (from sympy->torch>=1.3.0->stanza) (1.3.0)\n"
          ]
        }
      ]
    },
    {
      "cell_type": "code",
      "source": [
        "#Importamos las paqueterías necesarias\n",
        "import stanza #paquetería de procesaamiento de lenaguje natural\n",
        "import sklearn #herramienta de machine learning\n",
        "import pandas as pd #herramienta de manejo de datos"
      ],
      "metadata": {
        "id": "q3qEpGkcNTS4"
      },
      "execution_count": null,
      "outputs": []
    },
    {
      "cell_type": "code",
      "source": [
        "#Descargamos el corpus\n",
        "!wget \"https://drive.google.com/uc?export=download&id=1p6FeFPEJor5E4Qpi69cckbsKJjeGmKpS\" -O corpus.txt"
      ],
      "metadata": {
        "colab": {
          "base_uri": "https://localhost:8080/"
        },
        "id": "Uov9DqD4q85J",
        "outputId": "d057f180-496a-45c4-b533-a0e086585a9c"
      },
      "execution_count": null,
      "outputs": [
        {
          "output_type": "stream",
          "name": "stdout",
          "text": [
            "--2023-08-16 06:17:20--  https://drive.google.com/uc?export=download&id=1p6FeFPEJor5E4Qpi69cckbsKJjeGmKpS\n",
            "Resolving drive.google.com (drive.google.com)... 172.253.115.100, 172.253.115.113, 172.253.115.101, ...\n",
            "Connecting to drive.google.com (drive.google.com)|172.253.115.100|:443... connected.\n",
            "HTTP request sent, awaiting response... 303 See Other\n",
            "Location: https://doc-0s-64-docs.googleusercontent.com/docs/securesc/ha0ro937gcuc7l7deffksulhg5h7mbp1/p40fsqfmd7vqesp705qd3e8u3vdugqll/1692166575000/04972566095341676886/*/1p6FeFPEJor5E4Qpi69cckbsKJjeGmKpS?e=download&uuid=7e91033a-3561-4d70-875c-f23c1dbda40f [following]\n",
            "Warning: wildcards not supported in HTTP.\n",
            "--2023-08-16 06:17:20--  https://doc-0s-64-docs.googleusercontent.com/docs/securesc/ha0ro937gcuc7l7deffksulhg5h7mbp1/p40fsqfmd7vqesp705qd3e8u3vdugqll/1692166575000/04972566095341676886/*/1p6FeFPEJor5E4Qpi69cckbsKJjeGmKpS?e=download&uuid=7e91033a-3561-4d70-875c-f23c1dbda40f\n",
            "Resolving doc-0s-64-docs.googleusercontent.com (doc-0s-64-docs.googleusercontent.com)... 172.253.122.132, 2607:f8b0:4004:c09::84\n",
            "Connecting to doc-0s-64-docs.googleusercontent.com (doc-0s-64-docs.googleusercontent.com)|172.253.122.132|:443... connected.\n",
            "HTTP request sent, awaiting response... 200 OK\n",
            "Length: 68194 (67K) [text/plain]\n",
            "Saving to: ‘corpus.txt’\n",
            "\n",
            "corpus.txt          100%[===================>]  66.60K  --.-KB/s    in 0.01s   \n",
            "\n",
            "2023-08-16 06:17:20 (5.79 MB/s) - ‘corpus.txt’ saved [68194/68194]\n",
            "\n"
          ]
        }
      ]
    },
    {
      "cell_type": "code",
      "source": [
        "#Leemos el archivo\n",
        "f = open('corpus.txt', encoding = \"latin8\")\n",
        "text = f.readlines()\n",
        "text[:10]"
      ],
      "metadata": {
        "colab": {
          "base_uri": "https://localhost:8080/"
        },
        "id": "47L2s7d9Tuuk",
        "outputId": "af3bc540-2803-47d2-da13-b488a63ff957"
      },
      "execution_count": null,
      "outputs": [
        {
          "output_type": "execute_result",
          "data": {
            "text/plain": [
              "['Urgent! call 09061749602 from Landline. Your complimentary 4* Tenerife Holiday or £10,000 cash await collection SAE T&Cs BOX 528 HP20 1YF 150ppm 18+,spam\\n',\n",
              " '+449071512431 URGENT! This is the 2nd attempt to contact U!U have WON £1250 CALL 09071512433 b4 050703 T&CsBCM4235WC1N3XX. callcost 150ppm mobilesvary. max£7. 50,spam\\n',\n",
              " 'FREE for 1st week! No1 Nokia tone 4 ur mob every week just txt NOKIA to 8007 Get txting and tell ur mates www.getzed.co.uk POBox 36504 W45WQ norm150p/tone 16+,spam\\n',\n",
              " 'Urgent! call 09066612661 from landline. Your complementary 4* Tenerife Holiday or £10,000 cash await collection SAE T&Cs PO Box 3 WA14 2PX 150ppm 18+ Sender: Hol Offer,spam\\n',\n",
              " 'WINNER!! As a valued network customer you have been selected to receivea £900 prize reward! To claim call 09061701461. Claim code KL341. Valid 12 hours only.,spam\\n',\n",
              " 'okmail: Dear Dave this is your final notice to collect your 4* Tenerife Holiday or #5000 CASH award! Call 09061743806 from landline. TCs SAE Box326 CW25WX 150ppm,spam\\n',\n",
              " '07732584351 - Rodger Burns - MSG = We tried to call you re your reply to our sms for a free nokia mobile + free camcorder. Please call now 08000930705 for delivery tomorrow,spam\\n',\n",
              " '\"URGENT! This is the 2nd attempt to contact U!U have WON £1000CALL 09071512432 b4 300603t&csBCM4235WC1N3XX.callcost150ppmmobilesvary. max£7. 50\",spam\\n',\n",
              " 'Congrats! Nokia 3650 video camera phone is your Call 09066382422 Calls cost 150ppm Ave call 3mins vary from mobiles 16+ Close 300603 post BCM4284 Ldn WC1N3XX,spam\\n',\n",
              " 'Urgent! Please call 0906346330. Your ABTA complimentary 4* Spanish Holiday or £10,000 cash await collection SAE T&Cs BOX 47 PO19 2EZ 150ppm 18+,spam\\n']"
            ]
          },
          "metadata": {},
          "execution_count": 49
        }
      ]
    },
    {
      "cell_type": "markdown",
      "source": [
        "Iniciamos con el preprocesamiento\n",
        "\n",
        "\n",
        "1.   Estandarizar: Eliminar elementos no deseados y convertir a minúsculas\n",
        "2.   Tokenizar\n",
        "3.   Corrección del texto\n",
        "4.   Realizar etiquetado por categoría gramatical\n",
        "5.   Lematizar\n",
        "\n",
        "\n",
        "\n",
        "\n"
      ],
      "metadata": {
        "id": "XvhXChSyQIgn"
      }
    },
    {
      "cell_type": "code",
      "source": [
        "# Quitamos caracteres no deseados y convertimos todo a minúsculas\n",
        "lines = [line.strip().lower() for line in text]\n",
        "lines[:10]"
      ],
      "metadata": {
        "id": "UPvOUoywZBAY",
        "colab": {
          "base_uri": "https://localhost:8080/"
        },
        "outputId": "e9a0d1be-b37d-45f3-8ecc-ac33629bcf3a"
      },
      "execution_count": null,
      "outputs": [
        {
          "output_type": "execute_result",
          "data": {
            "text/plain": [
              "['urgent! call 09061749602 from landline. your complimentary 4* tenerife holiday or £10,000 cash await collection sae t&cs box 528 hp20 1yf 150ppm 18+,spam',\n",
              " '+449071512431 urgent! this is the 2nd attempt to contact u!u have won £1250 call 09071512433 b4 050703 t&csbcm4235wc1n3xx. callcost 150ppm mobilesvary. max£7. 50,spam',\n",
              " 'free for 1st week! no1 nokia tone 4 ur mob every week just txt nokia to 8007 get txting and tell ur mates www.getzed.co.uk pobox 36504 w45wq norm150p/tone 16+,spam',\n",
              " 'urgent! call 09066612661 from landline. your complementary 4* tenerife holiday or £10,000 cash await collection sae t&cs po box 3 wa14 2px 150ppm 18+ sender: hol offer,spam',\n",
              " 'winner!! as a valued network customer you have been selected to receivea £900 prize reward! to claim call 09061701461. claim code kl341. valid 12 hours only.,spam',\n",
              " 'okmail: dear dave this is your final notice to collect your 4* tenerife holiday or #5000 cash award! call 09061743806 from landline. tcs sae box326 cw25wx 150ppm,spam',\n",
              " '07732584351 - rodger burns - msg = we tried to call you re your reply to our sms for a free nokia mobile + free camcorder. please call now 08000930705 for delivery tomorrow,spam',\n",
              " '\"urgent! this is the 2nd attempt to contact u!u have won £1000call 09071512432 b4 300603t&csbcm4235wc1n3xx.callcost150ppmmobilesvary. max£7. 50\",spam',\n",
              " 'congrats! nokia 3650 video camera phone is your call 09066382422 calls cost 150ppm ave call 3mins vary from mobiles 16+ close 300603 post bcm4284 ldn wc1n3xx,spam',\n",
              " 'urgent! please call 0906346330. your abta complimentary 4* spanish holiday or £10,000 cash await collection sae t&cs box 47 po19 2ez 150ppm 18+,spam']"
            ]
          },
          "metadata": {},
          "execution_count": 50
        }
      ]
    },
    {
      "cell_type": "code",
      "source": [
        "#Vamos a dar forma al corpus separando los textos de la etiqueta\n",
        "text = list()\n",
        "label = list() #las etiquetas asociadas a los documentos\n",
        "\n",
        "for line in lines:\n",
        "  aux = line.split(',') #separamos por la coma\n",
        "  label.append(aux[-1]) #separamos la etiqueta\n",
        "  del aux[-1]\n",
        "  text.append(aux[0]) #separamos el documento\n",
        "\n",
        "text[:10]"
      ],
      "metadata": {
        "colab": {
          "base_uri": "https://localhost:8080/"
        },
        "outputId": "334bb5e9-0faa-4be0-d00d-d3846c0fffc4",
        "id": "_ngHZl3rWILj"
      },
      "execution_count": null,
      "outputs": [
        {
          "output_type": "execute_result",
          "data": {
            "text/plain": [
              "['urgent! call 09061749602 from landline. your complimentary 4* tenerife holiday or £10',\n",
              " '+449071512431 urgent! this is the 2nd attempt to contact u!u have won £1250 call 09071512433 b4 050703 t&csbcm4235wc1n3xx. callcost 150ppm mobilesvary. max£7. 50',\n",
              " 'free for 1st week! no1 nokia tone 4 ur mob every week just txt nokia to 8007 get txting and tell ur mates www.getzed.co.uk pobox 36504 w45wq norm150p/tone 16+',\n",
              " 'urgent! call 09066612661 from landline. your complementary 4* tenerife holiday or £10',\n",
              " 'winner!! as a valued network customer you have been selected to receivea £900 prize reward! to claim call 09061701461. claim code kl341. valid 12 hours only.',\n",
              " 'okmail: dear dave this is your final notice to collect your 4* tenerife holiday or #5000 cash award! call 09061743806 from landline. tcs sae box326 cw25wx 150ppm',\n",
              " '07732584351 - rodger burns - msg = we tried to call you re your reply to our sms for a free nokia mobile + free camcorder. please call now 08000930705 for delivery tomorrow',\n",
              " '\"urgent! this is the 2nd attempt to contact u!u have won £1000call 09071512432 b4 300603t&csbcm4235wc1n3xx.callcost150ppmmobilesvary. max£7. 50\"',\n",
              " 'congrats! nokia 3650 video camera phone is your call 09066382422 calls cost 150ppm ave call 3mins vary from mobiles 16+ close 300603 post bcm4284 ldn wc1n3xx',\n",
              " 'urgent! please call 0906346330. your abta complimentary 4* spanish holiday or £10']"
            ]
          },
          "metadata": {},
          "execution_count": 51
        }
      ]
    },
    {
      "cell_type": "code",
      "source": [
        "# La paqueteria Stanza ayuda a procesar lenguaje natural mediante un \"pipeline\"\n",
        "nlp = stanza.Pipeline(lang='en', processors='tokenize, mwt, pos, lemma')\n",
        "\n",
        "pre = list()\n",
        "\n",
        "for i in text:\n",
        "  pre.append(nlp(i))"
      ],
      "metadata": {
        "colab": {
          "base_uri": "https://localhost:8080/",
          "height": 347,
          "referenced_widgets": [
            "7852c1bd84b34daa9be3050b50a3da9d",
            "d4a7b063f87a4f6883c0888476292cce",
            "77ea2c2b240748d2b76b843a8be0cdae",
            "e73cde4f919844a491f98c6c7305c715",
            "1ffc6a0de69e446995fd07d6aa3d82a6",
            "0fdf3e729a0647f4898dce5297e399f9",
            "cd4c6110d9c34943946a66bff77a1703",
            "5e9b1c05c5464838b8e42619607ecd35",
            "73cbdc7e2e3443ee8f5d8a76086ac188",
            "8f74925945624615b982007a83b8c7ab",
            "6d35ec889c9641eca08f039826d810a4"
          ]
        },
        "id": "YGdDGTAouyH6",
        "outputId": "df510717-541c-451a-e9e7-0ba46d9ae9a9"
      },
      "execution_count": null,
      "outputs": [
        {
          "output_type": "stream",
          "name": "stderr",
          "text": [
            "INFO:stanza:Checking for updates to resources.json in case models have been updated.  Note: this behavior can be turned off with download_method=None or download_method=DownloadMethod.REUSE_RESOURCES\n"
          ]
        },
        {
          "output_type": "display_data",
          "data": {
            "text/plain": [
              "Downloading https://raw.githubusercontent.com/stanfordnlp/stanza-resources/main/resources_1.5.0.json:   0%|   …"
            ],
            "application/vnd.jupyter.widget-view+json": {
              "version_major": 2,
              "version_minor": 0,
              "model_id": "7852c1bd84b34daa9be3050b50a3da9d"
            }
          },
          "metadata": {}
        },
        {
          "output_type": "stream",
          "name": "stderr",
          "text": [
            "WARNING:stanza:Can not find mwt: default from official model list. Ignoring it.\n",
            "INFO:stanza:Loading these models for language: en (English):\n",
            "========================\n",
            "| Processor | Package  |\n",
            "------------------------\n",
            "| tokenize  | combined |\n",
            "| pos       | combined |\n",
            "| lemma     | combined |\n",
            "========================\n",
            "\n",
            "INFO:stanza:Using device: cpu\n",
            "INFO:stanza:Loading: tokenize\n",
            "INFO:stanza:Loading: pos\n",
            "INFO:stanza:Loading: lemma\n",
            "INFO:stanza:Done loading processors!\n"
          ]
        }
      ]
    },
    {
      "cell_type": "code",
      "source": [
        "print(*[f'word: {word.text+\" \"}\\tpos: {word.pos}' for sent in pre[6].sentences for word in sent.words], sep='\\n') #imprimimos el POS de las palabras de un documento de ejemplo"
      ],
      "metadata": {
        "colab": {
          "base_uri": "https://localhost:8080/"
        },
        "id": "3hglQdBBZH3l",
        "outputId": "090f0f05-1f56-49c8-b5f3-a6dde3e45874"
      },
      "execution_count": null,
      "outputs": [
        {
          "output_type": "stream",
          "name": "stdout",
          "text": [
            "word: 07732584351 \tpos: NUM\n",
            "word: - \tpos: PUNCT\n",
            "word: rodger \tpos: NOUN\n",
            "word: burns \tpos: NOUN\n",
            "word: - \tpos: PUNCT\n",
            "word: msg \tpos: NOUN\n",
            "word: = \tpos: SYM\n",
            "word: we \tpos: PRON\n",
            "word: tried \tpos: VERB\n",
            "word: to \tpos: PART\n",
            "word: call \tpos: VERB\n",
            "word: you \tpos: PRON\n",
            "word: re \tpos: ADP\n",
            "word: your \tpos: PRON\n",
            "word: reply \tpos: NOUN\n",
            "word: to \tpos: ADP\n",
            "word: our \tpos: PRON\n",
            "word: sms \tpos: NOUN\n",
            "word: for \tpos: ADP\n",
            "word: a \tpos: DET\n",
            "word: free \tpos: ADJ\n",
            "word: nokia \tpos: PROPN\n",
            "word: mobile \tpos: ADJ\n",
            "word: + \tpos: SYM\n",
            "word: free \tpos: ADJ\n",
            "word: camcorder \tpos: NOUN\n",
            "word: . \tpos: PUNCT\n",
            "word: please \tpos: INTJ\n",
            "word: call \tpos: VERB\n",
            "word: now \tpos: ADV\n",
            "word: 08000930705 \tpos: NUM\n",
            "word: for \tpos: ADP\n",
            "word: delivery \tpos: NOUN\n",
            "word: tomorrow \tpos: NOUN\n"
          ]
        }
      ]
    },
    {
      "cell_type": "code",
      "source": [
        "print(*[f'word: {word.text+\" \"}\\tlemma: {word.lemma}' for sent in pre[6].sentences for word in sent.words], sep='\\n') #imprimos los lemmas de un documento de ejemplo"
      ],
      "metadata": {
        "colab": {
          "base_uri": "https://localhost:8080/"
        },
        "id": "Ek-vnuXuXRBK",
        "outputId": "c63c5f6e-6716-45e6-e418-f48d07be25b7"
      },
      "execution_count": null,
      "outputs": [
        {
          "output_type": "stream",
          "name": "stdout",
          "text": [
            "word: 07732584351 \tlemma: 07732584351\n",
            "word: - \tlemma: -\n",
            "word: rodger \tlemma: rodger\n",
            "word: burns \tlemma: burn\n",
            "word: - \tlemma: -\n",
            "word: msg \tlemma: msg\n",
            "word: = \tlemma: =\n",
            "word: we \tlemma: we\n",
            "word: tried \tlemma: try\n",
            "word: to \tlemma: to\n",
            "word: call \tlemma: call\n",
            "word: you \tlemma: you\n",
            "word: re \tlemma: re\n",
            "word: your \tlemma: you\n",
            "word: reply \tlemma: reply\n",
            "word: to \tlemma: to\n",
            "word: our \tlemma: we\n",
            "word: sms \tlemma: sm\n",
            "word: for \tlemma: for\n",
            "word: a \tlemma: a\n",
            "word: free \tlemma: free\n",
            "word: nokia \tlemma: nokia\n",
            "word: mobile \tlemma: mobile\n",
            "word: + \tlemma: +\n",
            "word: free \tlemma: free\n",
            "word: camcorder \tlemma: camcorder\n",
            "word: . \tlemma: .\n",
            "word: please \tlemma: please\n",
            "word: call \tlemma: call\n",
            "word: now \tlemma: now\n",
            "word: 08000930705 \tlemma: 08000930705\n",
            "word: for \tlemma: for\n",
            "word: delivery \tlemma: delivery\n",
            "word: tomorrow \tlemma: tomorrow\n"
          ]
        }
      ]
    },
    {
      "cell_type": "code",
      "source": [
        "X_pre = list()\n",
        "\n",
        "for doc in pre:\n",
        "  lemmas = list()\n",
        "  d = doc.to_dict() #stanza nos devuelve un diccionario con todo los elementos asociados al preprocesamiento\n",
        "  for s in d:\n",
        "    for w in s:\n",
        "      try:\n",
        "        lemmas.append(w[\"lemma\"]) #nos quedamos con los lemmas\n",
        "      except:\n",
        "        lemmas.append(w[\"text\"]) #no siempre se logra extraer el lemma eb ese casi nos quedamos con la palabra normal\n",
        "  X_pre.append(\" \".join(lemmas))\n"
      ],
      "metadata": {
        "id": "YJlxWUQ1ZlUN"
      },
      "execution_count": null,
      "outputs": []
    },
    {
      "cell_type": "markdown",
      "source": [
        "Ahora que hemos preprocesado nuestros datos textuales, es momento de volverlos numéricos, primero las etiquetas"
      ],
      "metadata": {
        "id": "ZspRrCja229h"
      }
    },
    {
      "cell_type": "code",
      "source": [
        "# será 1 si es spam y 0 si es ham\n",
        "y = [1 if x == 'spam' else 0 for x in label]"
      ],
      "metadata": {
        "id": "v81poW6_aKM-"
      },
      "execution_count": null,
      "outputs": []
    },
    {
      "cell_type": "markdown",
      "source": [
        "Los textos, son un poco más complicados, primero veremos bag of words"
      ],
      "metadata": {
        "id": "Q943YGgpDODD"
      }
    },
    {
      "cell_type": "code",
      "source": [
        " from sklearn.model_selection import train_test_split #herramienta que nos ayuda a separar el corpus"
      ],
      "metadata": {
        "id": "ECTmyBgttBP_"
      },
      "execution_count": null,
      "outputs": []
    },
    {
      "cell_type": "markdown",
      "source": [
        "![train-and-test-1-min-1.webp](data:image/webp;base64,UklGRqgRAABXRUJQVlA4TJsRAAAv8wFbAO/jMLbtRPnJ2s9fnAK0C2qnGHeHuJA23EaSpEi9eMzkwPtv0EsvMf/isePattXkx77rWoxogJqolW6YxT3fk/kPAJj3R0Li4BSq9n7drElEMIMD5NB6AChQyfg7owEPIK1Z4BFYwFkPBsBQKxePz7bS/uJiT64HiYOhliXOEhexS7grzSQVYYE2AyyEi1YCYqX1PWW/78nMmrNeSUY/TeWpozWj/gtlL07vpLKCB6z3tNqF+8MFllaX+n5L5A0F1Qk1CqVe/EKh1AhCSIECDgOOe8mbgrVRsJU/daKpJeJZddP/QH6jON3SclvJr1ogIoe4YyioxCyqQ4i/tUkHUUAMYm6ca/1EGKVSN2IaATUCQgERbZB7YEbpoCAkRhyqAuhFA1FyWEtr7JrvR6+B9sfd5x5kLaQ1C6vjFw88pXVQ5KuF+5HXye8587/T69zx2pKOgraNnCb8Wd/4gSAiJiCfsm2OrRt7agnZAljooprAFNVdJddpydq2tpHKGObEbcfdPdMMd8OzgDBezQLCzAzefPL9sqv06ochSbZLnyRbTkT/IUGS3LaZJUwCVM7JWCyftrZtcxJbck+eI0cPdw49HQzLPOq/AFfrxJXcOf3/c+qrArtZgxztD+otQKqQiP5DYtvIkSRP6p0A750xXbP5TcHZtqq15biK4oUJaGziPKqJ868/6Fp20309x8qnBhP5I/oPiW0jRxLr0mYf0JjpCRfqmzJyuf7j+o/rP67/uP7ztw1dB0ajriwgua37ivEoWW9h4bcfK0ak5hrSzlsPFWOS14LhoFkxKbVQls2qcBNj0fcqhqWmj0AgnofbjZ1dg1GyETSZaguBpvAORGgxmoZ7nNm+UDwjkjDt288tvc3umBFJkxDYzz3hzjMkRfS5wH7ovjdMiQ36ZICyy01TYoeJzBzf9Z+/7fjuW6I6XfPYkbT71/++T98A8KtTeG2tffecVNba79MJwL9PYAugfc6eyweQWsB/I3PBM1MhhWDbV6YheAX9u78x1+1jo/9zYerjSuxlWVYLCpdZ/aivisqjcVngw5r8e7WPa1VL80aQZZlJE/yHA12hsOB80ORJPo5byEaKH/h7C0XB+ZaefRRnKT8XFC9lnxWpQUpIalIH3/mKNORQKQvwIEvAW2W5WSgcq85PudJnMLwFUgqqWU2rC3V6vkcYr6Rzj2y5Ij4eG6n4/J5G7yU90pHzVIOh2SDNxly+byoIOeaKWsoqUzXE7NUVXDRyejLQfb+rtm8V0cul4iPjbyuaYlNVLn1QES7k785EvtQr8BEhuzUqn54cUu96kVxZKXpcC7bkHsm7pRBUk1rU+w0t+UwULsbqRuozmLkF1faVKqGNDQQAOuWQKW6ufFonRKWQN5FhhRFdBCBEXopBkZidIhrRqV8inO+sojj8npsovEovXCD3/z4JXXWsm2hU1F9eVBSiXF54JV1RbkXjKqapZnJs5Dw5OTTsR+NKLgCZWUJSkZGMZYpTlqzUMtlWxnqQq/u3Mi1kvqUH+v67/MhWujT8XssYQ45uJDLSlbwlOKPC8beuSSPP7fhHRbD0f65Q8L0HRZ9B7djsETIZoLdXmlYjn4ygs8w2ZA3nkFWnEPw8Uv4MuSJQ4SBtokJZKYqwmpAtSVRTDLZQd/uA/1bL5Cq+l3P3HxOFil5thsImneC/tOaoqvV2UvSM4ql8V5Pk2KN8RVhWXGtKu/VornQuGX9rJSdWepTXkDJUX5P0Zhnrkhc1h+mY5xcpKnWeu7D/kyuEq1CbhVM5aS557tL5a6x/85+/czDrfmYbtM9RlP6kb02JgJo+ofQb75kSQofvCP4QJlXdYMIegN1Thc1px41HSi5lv9rCFMWmQxwJJYDwdWtaGEIajrB83figwmzgpp2xWbGVQtF+06AMO/eQTLgTUyIBc9vfj0yIaD8FJ/+gGbRNRs2Wz4BKs5HL9R/Xf/7D19HF1Mycbim89LO1kRmYKBThlMS9eP9IES2v6prCXHW6i69RVY4zUJwEic7ptBpxHVnlAaD/nLlJVrSOZMa3bC3VwVWIUeisap8WfIsyWYdXM8bgMtFAdcRjC+sO0AQE+URgcfZauzSzKD4XH1XbR7n0ahxOvsXNuBuoLbg+0zJdLQn3UzqvU8LhQUiNl4UmhDAHCWHp/EzXtJgQHT+/Bh+g+IOoGmrBzE4p7TNt43yZcMlPKhImG7gaowyg1OfPNE4dWrWqjwPTaNJjsJ8XwrXO0U6Ing+ZHkIDmXH6MsV+lsS6xlUpOeY+sQ5f7dhPoH+8BIS8MxiuE8Wu//z7hTYP3TQqFL+utjpCqaaQESDelYdBL6loalMdX1LgWXKKWwQsb8oS2PUSigqmqr+kX57CFPFTY0trX6HFk+ADGCU8/ImvbNq6Roqkt6VNR6HlSSx25UCwAsp+gjVKAAu90HnfMm8FnSduKoTPRs+A8M9amTfvPZ0xbpQfghgDG+YaK0KAJ3HtqufLp5WybJJsk8a0XqiAmDMHBN7kkAdYrm0YXEOEk84V1ace8iSPJ6EtlxwgtqsEcCdfrImL9Opt4cUkmwLwsiwbBfRn641bDGjAzGrjllMWc8Bzed7oKs/zvuY8b7s8d5ucOnywrnWrPM+rZMHlAKC4KyOtjseYm5YoGVPu2v+25mke+xD5EkjJYxDNhJ299IPp+r01qFhnAB50A2DqE1OjgAlD0iFR0Kqj00KaIzUy/x+BrZmpEm3z4sgcgOZ8WMmAAZDgXLVegppY6xGioEwXB+Z28ywgmyYPyzKsRkTeMpYIOEctMtTRs4pRt5CQZ6LxDpoqZraSFYBFd+ADG1phZMVoUer+dAegNaZQk5kVzd8EwFTaL2lIOqaLBK8CGVS3UZI5JTnGuJb5HG5mXmjaGMBuKb7Yf1SuAabB86VC4dChm6gZ6J5PjjQNmOhrwDxpOPStvzoaahLFXIzTRtVOZeTlHpe9PvShUk9fQbTmSEhOM0IJwPWWYtekISYeBzBd/8wxyWWynQDcSQamDelsR+vBqOyEHYJeg2rfSyZSOjFQzSTdN2B1aTOSjO2kR45P1SWHOpDO43R65MqCV32dTFyDlvk+l8LhPHYhPVuKPsj13+BBazOSqsmrbKjpnzCZjMRzPkmGeshoJqsDduW9X61lQvqQ1WYn8tXCb9c6pNcYRaQLCIvOzPpJhGkHwFzaElpd0lK6K1BRqNYihKehF5BU9hOJzmk7dua6kJbQS9qJ1lNaEqyDxnwHclDSVywYwOEhIv3cgySbSDDZmX9mLObRC5PaXsft+4PsoRvBgu5lWcTn8ejWG2PMMmCVVK/P6QvHc1VXAS6RWMiu/8f7OCdrRE45Wvd2wPL8eO2lpAcHmB8lUPHb0B0A2M/tcgdgcJ7Q5KpIh9VV/E7OvVwrntaa6PMDZT7rp3snutOND+h23j9LXlefVbq4ezvnWHfPmPdStFkiznjJul/zn5/571xL+tfPbBv6maMfvQefOZqXz87CMyvTOtm3cP63+H+28IfPzzTtAlvnmKVeC/wkSgGZEopBxIkuegXcWHoF4K8ZMAZPkKNn4D1BohaO+c+03nn/XFfz/hHceUpjoDuaxPH+4dxKIixomMdX/WnJwvpHmAkLBUCPrw6UxxefCESJxumSBRXrDtAAY2haAz07Y5HMJD4FBiGeWk1MypvXSDy4Y1l6cDOzf6ORXvtpaXrtMzMfRdo4poY07pgaXP+3dun/S27t0pFN37zoABPjZgvg0biBkOs/f6fzh8k//m+pBLBEslOWlTNLMM44Mf6UMr/zce7pUMpTc/bxi5TZnH1E8n5Vfj3T9IJg2u/Efvmtc+oMQPMnKaMDdHmuqQL+OpAyCwDtGfeiByvrfzp9cbna8426dv0PtqpDwVbDSz9bK5n+z+/fwanQfy1LQwi2GuZq4S9ffBJb6Q4bQrDV0+poE2e9bVfdhTSDrU4pzUWzLP/ymYm53sfsJNPOiTRK6SjNLZfL339qYq93lsUJ5rwxBjerKtK0VVEux/gQLN1gq8eJaLy+OD8re4UvFq+HjmrYx6fu89jJKYZui5DKVslW4RRime3PiU++Z2pQK7Ie5QJzRl766u+x1OdhN3XKwhJk/smhhl/HGVRDXmhVx4hJ2kLjMX2N1C+NNxxTfaWexQPYWWYbjfEOWrDVa/UMTueCid4pxpgP9Kjo+s4w+lh46gMo9cUzlWieHgj9I7yN4xiLHkTADgm2WtKXYKvXdPgn9D0b5SbOvCf8wA4Z9FJBCLaqIQMaO6fV7DM9tM7MsW8ySzXY6oqKxrxEL8qcU/hIiZ/oddAg1lz/+ctCkffTm1f9dSUiIJ3evOrPg2/fR6RIXBur/5IIwG1686pviK25VmWIwLd1n0j6WZvevOoP7m4IMGM2lrgH6kigsk+JrblWlYJLTtlOb171hzGcVdVNwLRS5wYd7JhLYEhZdjCPADX2hNiaa1WWlQoA6IW286Q9UTpPfLgiBEd5TyKttOEtF4Iba16VpvqEz6rzn/BxJC4QHWDMXACYhHPoePdRKVbrgqmxJ8TOXKvS3Eli6nLoBtSs7rQBTVGBjMIwcPSCigDZ70Me0bGpeaYdqFbpIsCdhGoivQRQZU9iNAG8u3BuhtSKYyvjKFOgYJUxdk8Caq5ViYG8otPBONIrjLnXINWMwW6MqcroJdkONswrYM08djsP+4liUpb3zHPdcZRpW8Jrh4G/soOytJKxofM65SJInSnL2nm8qSNugpprVV6Y+hLsASx0fWNmrGKMnrnRvoHjIwAsSY+C1LzjHWnPQDSW8IF7zsj9JtAE6KKQ7FFjQ4/+12+EbU0sRAQ116rsQDHkkT2v5OFu1JXvg2VUnaWl9j2QlyHDFe6VHia2HQ9pu1jZewMYNRvgMCsJ44WtDx1MbqYAKlNT1sDK7oEpiepyDqCOBmquVamx97yu+l1IqM+YXVv4XKOUtiLqeKVpPQCol7LoYDkjbb6ZzFcboFXjiWuCinA3Xaz2QMUuoGCVsVoYWwsONLvRAM21KjVKbX6vaHPJo/R9P0OmUY5NjdHVZPGTkRQvQ2oeVqR9RzryMAoSq7FgTPp8FWpjE6AVGOZ9ZEBzrUqNmokcwGTDFoGbojbQXuBOuhd+nX1BcnMftGkZeT8JnQTUPBW0wLLIo05MMDkZ0FyrUuNOkabBZZF+p7sRJ6DV+Bez7IC2xTHuTCiHDtx4LyiBaU0a7AF2MlQUGvkwcFedDGiuVQnSaZPDbC6rAJpjX3LmFzMWTFja0wulUuy2Jg4ILQJNQ3Yr704GM9eqDOkHYnXNPOgLnL337evt5991pId21kA5XoVxY4B26AWILQ7DUhDsBz2msBUJWNd8MqC5ViXIWmlXz2WBVk70L3ts5+6e+SQzdaE0c6N2VjzF83mouVYl2LxQ1z4T30CvurXxMVzUXKsSZI3pznw1k/SCoQ4bH7dHzbUqxd/ntIXaZh2+NwnEw5BcbHxOFmquVdX99rICasOgkzaGmmtVdZQApEKeDAF6G597iZprVXUImEqyjYHmWlUe3c3w6PAzcI71kDL/l0LJWJwX1K/5z8/8t7FlFZE4En6izznA9C2soqSp1n0LvwefMxuyozZeYQulD/F5BW01xiXrPsQvlDh/RcQ7h/QhLlhEFFG8AlbOVcIStfRjItqtu4t/+7OlV0CIXC+juP8cJ8oxC5ivYv7zOfazzyjUvDOGn5XqhL4UyoqVF1Us1oWylGXrFebzuC5LY1s4k6L3GuqyUEIkj6+V+WsVKIwSykl1j69PP/8qhnLGyPOqG5H11TigSvU6zpxZTXE3Zxzm5ffeKuOoLL38OL2oFKzbhKb3gHZsdSYdQClmDOXUMzXybKm/xn/ssJV6y/ClG8d1fUppdszML218O2YHGTIXGEnHKmlsf43Sa/a/BW7tqWEUTAPAjaWIwXR8udBQwWG7i4laK/UEPwCuCt/VOqiGuLdQauHRKk706dcgtJx2Jo1crv+4/uP6j+s/bqgwAA==)"
      ],
      "metadata": {
        "id": "KcxhgQPJtItv"
      }
    },
    {
      "cell_type": "code",
      "source": [
        "X_train, X_test, y_train, y_test = train_test_split(X_pre, y, test_size=0.33, random_state=42)\n",
        "print(\"Tamaño del train set: \" +str(len(X_train)))\n",
        "print(\"Tamaño del test set: \" + str(len(X_test)))"
      ],
      "metadata": {
        "colab": {
          "base_uri": "https://localhost:8080/"
        },
        "id": "50qysrqRtjdy",
        "outputId": "d6bacb8f-adbc-4c1f-cb92-fa42c8a37543"
      },
      "execution_count": null,
      "outputs": [
        {
          "output_type": "stream",
          "name": "stdout",
          "text": [
            "Tamaño del train set: 450\n",
            "Tamaño del test set: 223\n"
          ]
        }
      ]
    },
    {
      "cell_type": "code",
      "source": [
        "from sklearn.feature_extraction.text import CountVectorizer"
      ],
      "metadata": {
        "id": "n9LaKeY3bj_J"
      },
      "execution_count": null,
      "outputs": []
    },
    {
      "cell_type": "code",
      "source": [
        "#Declaramos el vectorizador en este caso es un BoW\n",
        "#El argumento binary nos permite cambiar entre BoW binaria o por frecuencias, el argumento ngram_range nos permite hacer uso de ngramas, este casi utilizaremos unigramas\n",
        "vectorizer = CountVectorizer(binary = True, ngram_range = (1,1))\n",
        "x_tr = vectorizer.fit_transform(X_train) #primero entrenamos y transformamos el train\n",
        "x_te = vectorizer.transform(X_test)\n",
        "\n",
        "print(\"VOCABULARY\")\n",
        "print(vectorizer.get_feature_names_out()[400:420])\n",
        "print(\"Tamaño del vocabulario: \" +str(len(vectorizer.get_feature_names_out())))"
      ],
      "metadata": {
        "id": "1P3YYoHfCs73",
        "colab": {
          "base_uri": "https://localhost:8080/"
        },
        "outputId": "d80b1cba-c077-4f01-8b19-af18cc60c625"
      },
      "execution_count": null,
      "outputs": [
        {
          "output_type": "stream",
          "name": "stdout",
          "text": [
            "VOCABULARY\n",
            "['150 worth of' '150p' '150p meg' '150p meg cc' '150p minute'\n",
            " '150p minute 18' '150p msg' '150p msg cc' '150p msgrcvdhg'\n",
            " '150p msgrcvdhg suite342' '150p mtmsg' '150p tone' '150p tone 16' '16'\n",
            " '16 118p' '16 118p msg' '16 99' '16 close' '16 close 300603' '16 club']\n",
            "Tamaño del vocabulario: 9542\n"
          ]
        }
      ]
    },
    {
      "cell_type": "code",
      "source": [
        "x_tr[0]"
      ],
      "metadata": {
        "colab": {
          "base_uri": "https://localhost:8080/"
        },
        "id": "d5bvkxtGxyJ6",
        "outputId": "4c93d73e-da8f-460f-8478-79b98aadbbf9"
      },
      "execution_count": null,
      "outputs": [
        {
          "output_type": "execute_result",
          "data": {
            "text/plain": [
              "<1x9542 sparse matrix of type '<class 'numpy.int64'>'\n",
              "\twith 36 stored elements in Compressed Sparse Row format>"
            ]
          },
          "metadata": {},
          "execution_count": 68
        }
      ]
    },
    {
      "cell_type": "markdown",
      "source": [
        "Es tiempo del modelo ...\n",
        "Utilizaremos:\n",
        "\n",
        "\n",
        "*   Naive Bayes\n",
        "*   Regresión Logística\n",
        "\n",
        "Como métrica utilizaremos F1 Score"
      ],
      "metadata": {
        "id": "Non-4jkczrMg"
      }
    },
    {
      "cell_type": "code",
      "source": [
        "from sklearn.naive_bayes import MultinomialNB #importamos clasificador naive bayes multinomial (este suele usarse para texto)\n",
        "from sklearn.linear_model import LogisticRegression #importamos el clasificador rregresión logística\n",
        "from sklearn.metrics import accuracy_score #importamos la medida exactitud"
      ],
      "metadata": {
        "id": "7_U7eJ47y0gV"
      },
      "execution_count": null,
      "outputs": []
    },
    {
      "cell_type": "code",
      "source": [
        "clf = MultinomialNB(force_alpha=True) #inicializamos el clasificador\n",
        "clf.fit(x_tr, y_train) #entreamos"
      ],
      "metadata": {
        "colab": {
          "base_uri": "https://localhost:8080/",
          "height": 75
        },
        "id": "GN1bwz_400p6",
        "outputId": "7c90f244-9733-4dc1-8467-3c2f819a2342"
      },
      "execution_count": null,
      "outputs": [
        {
          "output_type": "execute_result",
          "data": {
            "text/plain": [
              "MultinomialNB(force_alpha=True)"
            ],
            "text/html": [
              "<style>#sk-container-id-10 {color: black;background-color: white;}#sk-container-id-10 pre{padding: 0;}#sk-container-id-10 div.sk-toggleable {background-color: white;}#sk-container-id-10 label.sk-toggleable__label {cursor: pointer;display: block;width: 100%;margin-bottom: 0;padding: 0.3em;box-sizing: border-box;text-align: center;}#sk-container-id-10 label.sk-toggleable__label-arrow:before {content: \"▸\";float: left;margin-right: 0.25em;color: #696969;}#sk-container-id-10 label.sk-toggleable__label-arrow:hover:before {color: black;}#sk-container-id-10 div.sk-estimator:hover label.sk-toggleable__label-arrow:before {color: black;}#sk-container-id-10 div.sk-toggleable__content {max-height: 0;max-width: 0;overflow: hidden;text-align: left;background-color: #f0f8ff;}#sk-container-id-10 div.sk-toggleable__content pre {margin: 0.2em;color: black;border-radius: 0.25em;background-color: #f0f8ff;}#sk-container-id-10 input.sk-toggleable__control:checked~div.sk-toggleable__content {max-height: 200px;max-width: 100%;overflow: auto;}#sk-container-id-10 input.sk-toggleable__control:checked~label.sk-toggleable__label-arrow:before {content: \"▾\";}#sk-container-id-10 div.sk-estimator input.sk-toggleable__control:checked~label.sk-toggleable__label {background-color: #d4ebff;}#sk-container-id-10 div.sk-label input.sk-toggleable__control:checked~label.sk-toggleable__label {background-color: #d4ebff;}#sk-container-id-10 input.sk-hidden--visually {border: 0;clip: rect(1px 1px 1px 1px);clip: rect(1px, 1px, 1px, 1px);height: 1px;margin: -1px;overflow: hidden;padding: 0;position: absolute;width: 1px;}#sk-container-id-10 div.sk-estimator {font-family: monospace;background-color: #f0f8ff;border: 1px dotted black;border-radius: 0.25em;box-sizing: border-box;margin-bottom: 0.5em;}#sk-container-id-10 div.sk-estimator:hover {background-color: #d4ebff;}#sk-container-id-10 div.sk-parallel-item::after {content: \"\";width: 100%;border-bottom: 1px solid gray;flex-grow: 1;}#sk-container-id-10 div.sk-label:hover label.sk-toggleable__label {background-color: #d4ebff;}#sk-container-id-10 div.sk-serial::before {content: \"\";position: absolute;border-left: 1px solid gray;box-sizing: border-box;top: 0;bottom: 0;left: 50%;z-index: 0;}#sk-container-id-10 div.sk-serial {display: flex;flex-direction: column;align-items: center;background-color: white;padding-right: 0.2em;padding-left: 0.2em;position: relative;}#sk-container-id-10 div.sk-item {position: relative;z-index: 1;}#sk-container-id-10 div.sk-parallel {display: flex;align-items: stretch;justify-content: center;background-color: white;position: relative;}#sk-container-id-10 div.sk-item::before, #sk-container-id-10 div.sk-parallel-item::before {content: \"\";position: absolute;border-left: 1px solid gray;box-sizing: border-box;top: 0;bottom: 0;left: 50%;z-index: -1;}#sk-container-id-10 div.sk-parallel-item {display: flex;flex-direction: column;z-index: 1;position: relative;background-color: white;}#sk-container-id-10 div.sk-parallel-item:first-child::after {align-self: flex-end;width: 50%;}#sk-container-id-10 div.sk-parallel-item:last-child::after {align-self: flex-start;width: 50%;}#sk-container-id-10 div.sk-parallel-item:only-child::after {width: 0;}#sk-container-id-10 div.sk-dashed-wrapped {border: 1px dashed gray;margin: 0 0.4em 0.5em 0.4em;box-sizing: border-box;padding-bottom: 0.4em;background-color: white;}#sk-container-id-10 div.sk-label label {font-family: monospace;font-weight: bold;display: inline-block;line-height: 1.2em;}#sk-container-id-10 div.sk-label-container {text-align: center;}#sk-container-id-10 div.sk-container {/* jupyter's `normalize.less` sets `[hidden] { display: none; }` but bootstrap.min.css set `[hidden] { display: none !important; }` so we also need the `!important` here to be able to override the default hidden behavior on the sphinx rendered scikit-learn.org. See: https://github.com/scikit-learn/scikit-learn/issues/21755 */display: inline-block !important;position: relative;}#sk-container-id-10 div.sk-text-repr-fallback {display: none;}</style><div id=\"sk-container-id-10\" class=\"sk-top-container\"><div class=\"sk-text-repr-fallback\"><pre>MultinomialNB(force_alpha=True)</pre><b>In a Jupyter environment, please rerun this cell to show the HTML representation or trust the notebook. <br />On GitHub, the HTML representation is unable to render, please try loading this page with nbviewer.org.</b></div><div class=\"sk-container\" hidden><div class=\"sk-item\"><div class=\"sk-estimator sk-toggleable\"><input class=\"sk-toggleable__control sk-hidden--visually\" id=\"sk-estimator-id-10\" type=\"checkbox\" checked><label for=\"sk-estimator-id-10\" class=\"sk-toggleable__label sk-toggleable__label-arrow\">MultinomialNB</label><div class=\"sk-toggleable__content\"><pre>MultinomialNB(force_alpha=True)</pre></div></div></div></div></div>"
            ]
          },
          "metadata": {},
          "execution_count": 70
        }
      ]
    },
    {
      "cell_type": "code",
      "source": [
        "pred = clf.predict(x_te) #generamos predicciones\n",
        "f = accuracy_score(y_test,pred) #evaluamos\n",
        "print(f)"
      ],
      "metadata": {
        "colab": {
          "base_uri": "https://localhost:8080/"
        },
        "id": "zJ928wdO1BNz",
        "outputId": "956e4b14-2546-487d-b851-d193c0fe6bbb"
      },
      "execution_count": null,
      "outputs": [
        {
          "output_type": "stream",
          "name": "stdout",
          "text": [
            "0.9596412556053812\n"
          ]
        }
      ]
    },
    {
      "cell_type": "code",
      "source": [
        "clf = LogisticRegression(random_state=0) #inicializamos el clasificador\n",
        "clf.fit(x_tr, y_train) #entrenamos"
      ],
      "metadata": {
        "colab": {
          "base_uri": "https://localhost:8080/",
          "height": 75
        },
        "id": "-bS01Qvt2BYS",
        "outputId": "caba87b2-46d2-43b4-d552-708c7dbe1324"
      },
      "execution_count": null,
      "outputs": [
        {
          "output_type": "execute_result",
          "data": {
            "text/plain": [
              "LogisticRegression(random_state=0)"
            ],
            "text/html": [
              "<style>#sk-container-id-11 {color: black;background-color: white;}#sk-container-id-11 pre{padding: 0;}#sk-container-id-11 div.sk-toggleable {background-color: white;}#sk-container-id-11 label.sk-toggleable__label {cursor: pointer;display: block;width: 100%;margin-bottom: 0;padding: 0.3em;box-sizing: border-box;text-align: center;}#sk-container-id-11 label.sk-toggleable__label-arrow:before {content: \"▸\";float: left;margin-right: 0.25em;color: #696969;}#sk-container-id-11 label.sk-toggleable__label-arrow:hover:before {color: black;}#sk-container-id-11 div.sk-estimator:hover label.sk-toggleable__label-arrow:before {color: black;}#sk-container-id-11 div.sk-toggleable__content {max-height: 0;max-width: 0;overflow: hidden;text-align: left;background-color: #f0f8ff;}#sk-container-id-11 div.sk-toggleable__content pre {margin: 0.2em;color: black;border-radius: 0.25em;background-color: #f0f8ff;}#sk-container-id-11 input.sk-toggleable__control:checked~div.sk-toggleable__content {max-height: 200px;max-width: 100%;overflow: auto;}#sk-container-id-11 input.sk-toggleable__control:checked~label.sk-toggleable__label-arrow:before {content: \"▾\";}#sk-container-id-11 div.sk-estimator input.sk-toggleable__control:checked~label.sk-toggleable__label {background-color: #d4ebff;}#sk-container-id-11 div.sk-label input.sk-toggleable__control:checked~label.sk-toggleable__label {background-color: #d4ebff;}#sk-container-id-11 input.sk-hidden--visually {border: 0;clip: rect(1px 1px 1px 1px);clip: rect(1px, 1px, 1px, 1px);height: 1px;margin: -1px;overflow: hidden;padding: 0;position: absolute;width: 1px;}#sk-container-id-11 div.sk-estimator {font-family: monospace;background-color: #f0f8ff;border: 1px dotted black;border-radius: 0.25em;box-sizing: border-box;margin-bottom: 0.5em;}#sk-container-id-11 div.sk-estimator:hover {background-color: #d4ebff;}#sk-container-id-11 div.sk-parallel-item::after {content: \"\";width: 100%;border-bottom: 1px solid gray;flex-grow: 1;}#sk-container-id-11 div.sk-label:hover label.sk-toggleable__label {background-color: #d4ebff;}#sk-container-id-11 div.sk-serial::before {content: \"\";position: absolute;border-left: 1px solid gray;box-sizing: border-box;top: 0;bottom: 0;left: 50%;z-index: 0;}#sk-container-id-11 div.sk-serial {display: flex;flex-direction: column;align-items: center;background-color: white;padding-right: 0.2em;padding-left: 0.2em;position: relative;}#sk-container-id-11 div.sk-item {position: relative;z-index: 1;}#sk-container-id-11 div.sk-parallel {display: flex;align-items: stretch;justify-content: center;background-color: white;position: relative;}#sk-container-id-11 div.sk-item::before, #sk-container-id-11 div.sk-parallel-item::before {content: \"\";position: absolute;border-left: 1px solid gray;box-sizing: border-box;top: 0;bottom: 0;left: 50%;z-index: -1;}#sk-container-id-11 div.sk-parallel-item {display: flex;flex-direction: column;z-index: 1;position: relative;background-color: white;}#sk-container-id-11 div.sk-parallel-item:first-child::after {align-self: flex-end;width: 50%;}#sk-container-id-11 div.sk-parallel-item:last-child::after {align-self: flex-start;width: 50%;}#sk-container-id-11 div.sk-parallel-item:only-child::after {width: 0;}#sk-container-id-11 div.sk-dashed-wrapped {border: 1px dashed gray;margin: 0 0.4em 0.5em 0.4em;box-sizing: border-box;padding-bottom: 0.4em;background-color: white;}#sk-container-id-11 div.sk-label label {font-family: monospace;font-weight: bold;display: inline-block;line-height: 1.2em;}#sk-container-id-11 div.sk-label-container {text-align: center;}#sk-container-id-11 div.sk-container {/* jupyter's `normalize.less` sets `[hidden] { display: none; }` but bootstrap.min.css set `[hidden] { display: none !important; }` so we also need the `!important` here to be able to override the default hidden behavior on the sphinx rendered scikit-learn.org. See: https://github.com/scikit-learn/scikit-learn/issues/21755 */display: inline-block !important;position: relative;}#sk-container-id-11 div.sk-text-repr-fallback {display: none;}</style><div id=\"sk-container-id-11\" class=\"sk-top-container\"><div class=\"sk-text-repr-fallback\"><pre>LogisticRegression(random_state=0)</pre><b>In a Jupyter environment, please rerun this cell to show the HTML representation or trust the notebook. <br />On GitHub, the HTML representation is unable to render, please try loading this page with nbviewer.org.</b></div><div class=\"sk-container\" hidden><div class=\"sk-item\"><div class=\"sk-estimator sk-toggleable\"><input class=\"sk-toggleable__control sk-hidden--visually\" id=\"sk-estimator-id-11\" type=\"checkbox\" checked><label for=\"sk-estimator-id-11\" class=\"sk-toggleable__label sk-toggleable__label-arrow\">LogisticRegression</label><div class=\"sk-toggleable__content\"><pre>LogisticRegression(random_state=0)</pre></div></div></div></div></div>"
            ]
          },
          "metadata": {},
          "execution_count": 72
        }
      ]
    },
    {
      "cell_type": "code",
      "source": [
        "pred = clf.predict(x_te) #generamos predicciones\n",
        "f = accuracy_score(y_test,pred) #evaluamos\n",
        "print(f)"
      ],
      "metadata": {
        "id": "T8Fz60aR2YBC",
        "outputId": "af20b00e-8a57-4ae4-e163-ce232d91ae09",
        "colab": {
          "base_uri": "https://localhost:8080/"
        }
      },
      "execution_count": null,
      "outputs": [
        {
          "output_type": "stream",
          "name": "stdout",
          "text": [
            "0.9372197309417041\n"
          ]
        }
      ]
    },
    {
      "cell_type": "markdown",
      "source": [
        "# Gracias c:"
      ],
      "metadata": {
        "id": "x8Bf7fXvN2Pr"
      }
    }
  ]
}