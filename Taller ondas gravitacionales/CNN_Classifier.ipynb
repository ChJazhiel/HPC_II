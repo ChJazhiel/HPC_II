{
  "nbformat": 4,
  "nbformat_minor": 0,
  "metadata": {
    "colab": {
      "provenance": [],
      "toc_visible": true,
      "gpuType": "T4"
    },
    "kernelspec": {
      "name": "python3",
      "display_name": "Python 3"
    },
    "language_info": {
      "name": "python"
    },
    "accelerator": "GPU"
  },
  "cells": [
    {
      "cell_type": "markdown",
      "source": [
        "# **ML for GW Astronomy: GW classifier using CNN algorithms**"
      ],
      "metadata": {
        "id": "o2qEwbY7Kl-q"
      }
    },
    {
      "cell_type": "markdown",
      "source": [
        "Dr. Manuel David Morales (manueld.morales@academicos.udg.mx)<br/>\n",
        "<i>CUCEI, Universidad de Guadalajara</i><br/>"
      ],
      "metadata": {
        "id": "lvs2GiJWNfBI"
      }
    },
    {
      "cell_type": "markdown",
      "source": [
        "For this second code, we start from a dataset that contains TF spectrograms that are similar to those we generated in the Data Preparation notebook, with GW signals of the model CCSNe Scheideger et al. 2010. The goal: design a Convolutional Neural Network (CNN) and apply it to the problem of binary classification between windows samples which have, and don't have, a CCSNe GW transient.\n",
        "\n",
        "The structure of this notebook is similar to most of data science projects with ML techniques:\n",
        "\n",
        "1.   **Data import and preparation**\n",
        "2.   **Define the deep learning arquitecture to use**\n",
        "3.   **Model training, testing, and evaluation**\n",
        "\n"
      ],
      "metadata": {
        "id": "iXjnaTPYNhJv"
      }
    },
    {
      "cell_type": "markdown",
      "source": [
        "## **Part 1: Settings**"
      ],
      "metadata": {
        "id": "o0QceMHSOUKh"
      }
    },
    {
      "cell_type": "code",
      "source": [
        "# ------> Library imports\n",
        "\n",
        "# Files/folders management\n",
        "import os\n",
        "\n",
        "# Data analysis\n",
        "import numpy as np\n",
        "import pandas as pd\n",
        "\n",
        "# Visualization\n",
        "import matplotlib.pyplot as plt\n",
        "import seaborn as sns\n",
        "from matplotlib import pyplot\n",
        "\n",
        "# Scientific computing\n",
        "import scipy as sp\n",
        "from scipy import interpolate, signal\n",
        "\n",
        "from functools import partial\n",
        "\n",
        "# Machine/Deep learning tools\n",
        "import sklearn.metrics as metrics\n",
        "from sklearn import model_selection\n",
        "from sklearn.datasets import make_classification\n",
        "from sklearn.linear_model import LogisticRegression\n",
        "from sklearn.model_selection import train_test_split\n",
        "from sklearn.metrics import roc_curve\n",
        "from sklearn.metrics import roc_auc_score"
      ],
      "metadata": {
        "id": "NOl5IbdRNmgY"
      },
      "execution_count": null,
      "outputs": []
    },
    {
      "cell_type": "code",
      "execution_count": null,
      "metadata": {
        "id": "NiiZyn4nKaob"
      },
      "outputs": [],
      "source": [
        "# ------> Library requeriments\n",
        "\n",
        "# Python ≥3.5 is required\n",
        "import sys\n",
        "assert sys.version_info >= (3, 5)\n",
        "\n",
        "# Is this notebook running on Colab or Kaggle?\n",
        "IS_COLAB = \"google.colab\" in sys.modules\n",
        "IS_KAGGLE = \"kaggle_secrets\" in sys.modules\n",
        "\n",
        "# Scikit-Learn ≥0.20 is required\n",
        "import sklearn\n",
        "assert sklearn.__version__ >= \"0.20\"\n",
        "\n",
        "# TensorFlow ≥2.0 is required\n",
        "import tensorflow as tf\n",
        "from tensorflow import keras\n",
        "assert tf.__version__ >= \"2.0\"\n",
        "\n",
        "if not tf.config.list_physical_devices('GPU'):\n",
        "    print(\"No GPU was detected. CNNs can be very slow without a GPU.\")\n",
        "    if IS_COLAB:\n",
        "        print(\"Go to Runtime > Change runtime and select a GPU hardware accelerator.\")\n",
        "    if IS_KAGGLE:\n",
        "        print(\"Go to Settings > Accelerator and select GPU.\")\n",
        "\n",
        "# to make this notebook's output stable across runs\n",
        "np.random.seed(42)\n",
        "tf.random.set_seed(42)\n",
        "\n",
        "# To plot pretty figures\n",
        "%matplotlib inline\n",
        "import matplotlib as mpl\n",
        "import matplotlib.pyplot as plt\n",
        "mpl.rc('axes', labelsize=14)\n",
        "mpl.rc('xtick', labelsize=12)\n",
        "mpl.rc('ytick', labelsize=12)"
      ]
    },
    {
      "cell_type": "markdown",
      "source": [
        "## **Part 2: Data import/conversion**"
      ],
      "metadata": {
        "id": "Nl-UigpPO0Od"
      }
    },
    {
      "cell_type": "markdown",
      "source": [
        "For this notebook, we draw on samples of spectrograms, codified as flatten images (vector of pixels). This spectrograms was obtained from strain time series already whitened and band-pass filtered. The conversion to the TF representation was made through the Q-transform.\n",
        "\n",
        "There are two types of samples. Type 1, in which a simulated CCSNe GW, Scheideger et al. 2010 (https://doi.org/10.1051/0004-6361/200913220) was injected in real noise data of LIGO detectors. Type 0, which are samples of only noise, without GW injection.\n",
        "\n",
        "For data augmentation purposes, in this case, 5 samples were extracted around the same GW signal injection through (sliding window approach): 3 of only noise and 2 showing noise plus the GW signal.\n",
        "\n",
        "This dataset in JSON format was generated by a former B.Sc.student of our group, Aldo Álvarez, and Prof. Javier M. Antelis.\n",
        "\n",
        "See the paper: https://bit.ly/RCS_CCSNeGW_CNNclassifier."
      ],
      "metadata": {
        "id": "vhElVbjNrX9j"
      }
    },
    {
      "cell_type": "code",
      "source": [
        "import random\n",
        "from google_drive_downloader import GoogleDriveDownloader\n",
        "\n",
        "class Constants:\n",
        "\n",
        "    SEED = 0\n",
        "\n",
        "    # Paths to the data files\n",
        "    dfJob2 = '/dfJob2.json'\n",
        "    dfJob3 = '/dfJob3.json'\n",
        "    dfJob4 = '/dfJob4.json'\n",
        "    dfJob5 = '/dfJob5.json'\n",
        "\n",
        "constants = Constants\n",
        "random.seed(constants.SEED)\n",
        "np.random.seed(constants.SEED)\n",
        "\n",
        "!wget -O /dfJob2.json https://www.dropbox.com/s/i7c1oxr9fo0py8a/DataJob2_Factor31.62.json?dl=0\n",
        "!wget -O /dfJob3.json https://www.dropbox.com/s/9fgfigfz9np6k6y/DataJob3_Factor31.62.json?dl=0\n",
        "!wget -O /dfJob4.json https://www.dropbox.com/s/8a1wpwfadfhecbt/DataJob4_Factor31.62.json?dl=0\n",
        "!wget -O /dfJob5.json https://www.dropbox.com/s/h1aiw2ytan9yl9n/DataJob5_Factor31.62.json?dl=0"
      ],
      "metadata": {
        "colab": {
          "base_uri": "https://localhost:8080/"
        },
        "id": "B3zPXjNsO2Kw",
        "outputId": "7bac7a77-a555-4141-f5f1-2dd037b34b2d"
      },
      "execution_count": null,
      "outputs": [
        {
          "output_type": "stream",
          "name": "stdout",
          "text": [
            "--2023-08-17 23:21:41--  https://www.dropbox.com/s/i7c1oxr9fo0py8a/DataJob2_Factor31.62.json?dl=0\n",
            "Resolving www.dropbox.com (www.dropbox.com)... 162.125.1.18, 2620:100:6016:18::a27d:112\n",
            "Connecting to www.dropbox.com (www.dropbox.com)|162.125.1.18|:443... connected.\n",
            "HTTP request sent, awaiting response... 302 Found\n",
            "Location: /s/raw/i7c1oxr9fo0py8a/DataJob2_Factor31.62.json [following]\n",
            "--2023-08-17 23:21:41--  https://www.dropbox.com/s/raw/i7c1oxr9fo0py8a/DataJob2_Factor31.62.json\n",
            "Reusing existing connection to www.dropbox.com:443.\n",
            "HTTP request sent, awaiting response... 302 Found\n",
            "Location: https://uc809cf8f32a31f01dc5eceda49a.dl.dropboxusercontent.com/cd/0/inline/CB_N0uzdUmY0mM2qwLiV3rYDbNcoo5ZWaF9nCq_EvIqfUEaifYF0jzLzwLCC6OdCrm0VYZbOWPqGQ-tq0yaSK8ITkSJI3SUgdGw1LS02CAUMAeOm8J3RxxAmSO30vO90VyAnSOh-qjfgK8fZUUMk4WDx/file# [following]\n",
            "--2023-08-17 23:21:42--  https://uc809cf8f32a31f01dc5eceda49a.dl.dropboxusercontent.com/cd/0/inline/CB_N0uzdUmY0mM2qwLiV3rYDbNcoo5ZWaF9nCq_EvIqfUEaifYF0jzLzwLCC6OdCrm0VYZbOWPqGQ-tq0yaSK8ITkSJI3SUgdGw1LS02CAUMAeOm8J3RxxAmSO30vO90VyAnSOh-qjfgK8fZUUMk4WDx/file\n",
            "Resolving uc809cf8f32a31f01dc5eceda49a.dl.dropboxusercontent.com (uc809cf8f32a31f01dc5eceda49a.dl.dropboxusercontent.com)... 162.125.1.15, 2620:100:6016:15::a27d:10f\n",
            "Connecting to uc809cf8f32a31f01dc5eceda49a.dl.dropboxusercontent.com (uc809cf8f32a31f01dc5eceda49a.dl.dropboxusercontent.com)|162.125.1.15|:443... connected.\n",
            "HTTP request sent, awaiting response... 200 OK\n",
            "Length: 21970069 (21M) [text/plain]\n",
            "Saving to: ‘/dfJob2.json’\n",
            "\n",
            "/dfJob2.json        100%[===================>]  20.95M  62.8MB/s    in 0.3s    \n",
            "\n",
            "2023-08-17 23:21:42 (62.8 MB/s) - ‘/dfJob2.json’ saved [21970069/21970069]\n",
            "\n",
            "--2023-08-17 23:21:43--  https://www.dropbox.com/s/9fgfigfz9np6k6y/DataJob3_Factor31.62.json?dl=0\n",
            "Resolving www.dropbox.com (www.dropbox.com)... 162.125.1.18, 2620:100:6016:18::a27d:112\n",
            "Connecting to www.dropbox.com (www.dropbox.com)|162.125.1.18|:443... connected.\n",
            "HTTP request sent, awaiting response... 302 Found\n",
            "Location: /s/raw/9fgfigfz9np6k6y/DataJob3_Factor31.62.json [following]\n",
            "--2023-08-17 23:21:43--  https://www.dropbox.com/s/raw/9fgfigfz9np6k6y/DataJob3_Factor31.62.json\n",
            "Reusing existing connection to www.dropbox.com:443.\n",
            "HTTP request sent, awaiting response... 302 Found\n",
            "Location: https://ucd1b8070fe4d5365a25b882aca7.dl.dropboxusercontent.com/cd/0/inline/CB8a_Fjqkr5_pMDTvRyh5ale8-AJfJcjY44upkHeMFygWYNmVU2RTEtTA5Jy0ArwtJgLFV2ouDLzFqc8Xn218vmdWejD9RAdzELdrzMDYjekCY3ShAVVg5_99X59sOuVdyrQmXErtTtZjWovALuk6APS/file# [following]\n",
            "--2023-08-17 23:21:43--  https://ucd1b8070fe4d5365a25b882aca7.dl.dropboxusercontent.com/cd/0/inline/CB8a_Fjqkr5_pMDTvRyh5ale8-AJfJcjY44upkHeMFygWYNmVU2RTEtTA5Jy0ArwtJgLFV2ouDLzFqc8Xn218vmdWejD9RAdzELdrzMDYjekCY3ShAVVg5_99X59sOuVdyrQmXErtTtZjWovALuk6APS/file\n",
            "Resolving ucd1b8070fe4d5365a25b882aca7.dl.dropboxusercontent.com (ucd1b8070fe4d5365a25b882aca7.dl.dropboxusercontent.com)... 162.125.1.15, 2620:100:6016:15::a27d:10f\n",
            "Connecting to ucd1b8070fe4d5365a25b882aca7.dl.dropboxusercontent.com (ucd1b8070fe4d5365a25b882aca7.dl.dropboxusercontent.com)|162.125.1.15|:443... connected.\n",
            "HTTP request sent, awaiting response... 200 OK\n",
            "Length: 21947284 (21M) [text/plain]\n",
            "Saving to: ‘/dfJob3.json’\n",
            "\n",
            "/dfJob3.json        100%[===================>]  20.93M  --.-KB/s    in 0.1s    \n",
            "\n",
            "2023-08-17 23:21:44 (154 MB/s) - ‘/dfJob3.json’ saved [21947284/21947284]\n",
            "\n",
            "--2023-08-17 23:21:44--  https://www.dropbox.com/s/8a1wpwfadfhecbt/DataJob4_Factor31.62.json?dl=0\n",
            "Resolving www.dropbox.com (www.dropbox.com)... 162.125.1.18, 2620:100:6016:18::a27d:112\n",
            "Connecting to www.dropbox.com (www.dropbox.com)|162.125.1.18|:443... connected.\n",
            "HTTP request sent, awaiting response... 302 Found\n",
            "Location: /s/raw/8a1wpwfadfhecbt/DataJob4_Factor31.62.json [following]\n",
            "--2023-08-17 23:21:44--  https://www.dropbox.com/s/raw/8a1wpwfadfhecbt/DataJob4_Factor31.62.json\n",
            "Reusing existing connection to www.dropbox.com:443.\n",
            "HTTP request sent, awaiting response... 302 Found\n",
            "Location: https://uce3eaba654b96a28056290b9c1b.dl.dropboxusercontent.com/cd/0/inline/CB9WT71O31aIrPSJkrb-Q7XXRoQBSy4TOjwhsgl41q_bgUwJNDqFxunxvsUNI0Pn4HfKxh3YOH9VJ6Y6JCU-TCCVHCxtcudBHq66xPEVIqVm0bBQEwcVLn9ItYrUjjZmpjSK75K4Y_hkBVYgH2OXdXJH/file# [following]\n",
            "--2023-08-17 23:21:44--  https://uce3eaba654b96a28056290b9c1b.dl.dropboxusercontent.com/cd/0/inline/CB9WT71O31aIrPSJkrb-Q7XXRoQBSy4TOjwhsgl41q_bgUwJNDqFxunxvsUNI0Pn4HfKxh3YOH9VJ6Y6JCU-TCCVHCxtcudBHq66xPEVIqVm0bBQEwcVLn9ItYrUjjZmpjSK75K4Y_hkBVYgH2OXdXJH/file\n",
            "Resolving uce3eaba654b96a28056290b9c1b.dl.dropboxusercontent.com (uce3eaba654b96a28056290b9c1b.dl.dropboxusercontent.com)... 162.125.1.15, 2620:100:6016:15::a27d:10f\n",
            "Connecting to uce3eaba654b96a28056290b9c1b.dl.dropboxusercontent.com (uce3eaba654b96a28056290b9c1b.dl.dropboxusercontent.com)|162.125.1.15|:443... connected.\n",
            "HTTP request sent, awaiting response... 200 OK\n",
            "Length: 21945487 (21M) [text/plain]\n",
            "Saving to: ‘/dfJob4.json’\n",
            "\n",
            "/dfJob4.json        100%[===================>]  20.93M   115MB/s    in 0.2s    \n",
            "\n",
            "2023-08-17 23:21:45 (115 MB/s) - ‘/dfJob4.json’ saved [21945487/21945487]\n",
            "\n",
            "--2023-08-17 23:21:45--  https://www.dropbox.com/s/h1aiw2ytan9yl9n/DataJob5_Factor31.62.json?dl=0\n",
            "Resolving www.dropbox.com (www.dropbox.com)... 162.125.1.18, 2620:100:6016:18::a27d:112\n",
            "Connecting to www.dropbox.com (www.dropbox.com)|162.125.1.18|:443... connected.\n",
            "HTTP request sent, awaiting response... 302 Found\n",
            "Location: /s/raw/h1aiw2ytan9yl9n/DataJob5_Factor31.62.json [following]\n",
            "--2023-08-17 23:21:45--  https://www.dropbox.com/s/raw/h1aiw2ytan9yl9n/DataJob5_Factor31.62.json\n",
            "Reusing existing connection to www.dropbox.com:443.\n",
            "HTTP request sent, awaiting response... 302 Found\n",
            "Location: https://uce7d9325a2031d896dc051606ba.dl.dropboxusercontent.com/cd/0/inline/CB_IcsYQqgvzXbpivhSW9YLW3sJ6YEWlyNJ9HD2_2qpbS0ATghln821aBM_558b2faCqGuxIcCKm2wyTSP1bjSclDhh0tsXv6KaFNG6YZIeLvPvEYp1O68TAr8uocytyjqJBGGZjA7Kc0b9HuJEZtCj5/file# [following]\n",
            "--2023-08-17 23:21:45--  https://uce7d9325a2031d896dc051606ba.dl.dropboxusercontent.com/cd/0/inline/CB_IcsYQqgvzXbpivhSW9YLW3sJ6YEWlyNJ9HD2_2qpbS0ATghln821aBM_558b2faCqGuxIcCKm2wyTSP1bjSclDhh0tsXv6KaFNG6YZIeLvPvEYp1O68TAr8uocytyjqJBGGZjA7Kc0b9HuJEZtCj5/file\n",
            "Resolving uce7d9325a2031d896dc051606ba.dl.dropboxusercontent.com (uce7d9325a2031d896dc051606ba.dl.dropboxusercontent.com)... 162.125.1.15, 2620:100:6016:15::a27d:10f\n",
            "Connecting to uce7d9325a2031d896dc051606ba.dl.dropboxusercontent.com (uce7d9325a2031d896dc051606ba.dl.dropboxusercontent.com)|162.125.1.15|:443... connected.\n",
            "HTTP request sent, awaiting response... 200 OK\n",
            "Length: 21963794 (21M) [text/plain]\n",
            "Saving to: ‘/dfJob5.json’\n",
            "\n",
            "/dfJob5.json        100%[===================>]  20.95M  --.-KB/s    in 0.1s    \n",
            "\n",
            "2023-08-17 23:21:46 (164 MB/s) - ‘/dfJob5.json’ saved [21963794/21963794]\n",
            "\n"
          ]
        }
      ]
    },
    {
      "cell_type": "code",
      "source": [
        "# ------> Convert a JSON strings to pandas dataframe\n",
        "\n",
        "dfJob2 = pd.read_json(constants.dfJob2)\n",
        "dfJob3 = pd.read_json(constants.dfJob3)\n",
        "dfJob4 = pd.read_json(constants.dfJob4)\n",
        "dfJob5 = pd.read_json(constants.dfJob5)"
      ],
      "metadata": {
        "id": "FbF_5GYPYmYV"
      },
      "execution_count": null,
      "outputs": []
    },
    {
      "cell_type": "code",
      "source": [
        "# ------> Select columns with useful information\n",
        "\n",
        "dfJob2 = dfJob2.iloc[:, np.r_[0:5,7]]\n",
        "dfJob3 = dfJob3.iloc[:, np.r_[0:5,7]]\n",
        "dfJob4 = dfJob4.iloc[:, np.r_[0:5,7]]\n",
        "dfJob5 = dfJob5.iloc[:, np.r_[0:5,7]]\n",
        "\n",
        "# ------> Explore a dataframe\n",
        "\n",
        "dfJob2.head()"
      ],
      "metadata": {
        "colab": {
          "base_uri": "https://localhost:8080/",
          "height": 417
        },
        "id": "QDQIt0yjYnLI",
        "outputId": "e0fe2a0f-0d3c-4db3-ed2f-c07a1e80eefa"
      },
      "execution_count": null,
      "outputs": [
        {
          "output_type": "execute_result",
          "data": {
            "text/plain": [
              "                                           Pixels H1  \\\n",
              "0  [[0.6671221011, 0.8246112875, 1.0935741992, 1....   \n",
              "1  [[0.1273723069, 0.027398567300000003, 0.000364...   \n",
              "2  [[0.9715096099, 1.0902210682, 1.25730067109999...   \n",
              "3  [[1.1038850136, 1.3463503, 1.7232404994000001,...   \n",
              "4  [[2.129061328, 2.4446815326999998, 2.632915256...   \n",
              "\n",
              "                                           Pixels L1         Twin  \\\n",
              "0  [[0.6268522979000001, 0.2885270893, 0.12907088...   869.170290   \n",
              "1  [[1.5275692769, 1.6736162632, 1.5662285443, 1....    10.491783   \n",
              "2  [[2.8905482979, 2.5858256658, 2.0183065708, 1....    10.491783   \n",
              "3  [[0.7286555221000001, 0.49838899600000003, 0.3...   890.915274   \n",
              "4  [[7.090021403, 4.6660909789, 2.6294095984, 1.2...  1149.403197   \n",
              "\n",
              "   GW injection Template  Distance  \n",
              "0             1     sch3  0.031626  \n",
              "1             0      NaN  0.031626  \n",
              "2             1     sch2  0.031626  \n",
              "3             0      NaN  0.031626  \n",
              "4             0      NaN  0.031626  "
            ],
            "text/html": [
              "\n",
              "  <div id=\"df-8ddd8906-be33-4008-955c-d238134edbe7\" class=\"colab-df-container\">\n",
              "    <div>\n",
              "<style scoped>\n",
              "    .dataframe tbody tr th:only-of-type {\n",
              "        vertical-align: middle;\n",
              "    }\n",
              "\n",
              "    .dataframe tbody tr th {\n",
              "        vertical-align: top;\n",
              "    }\n",
              "\n",
              "    .dataframe thead th {\n",
              "        text-align: right;\n",
              "    }\n",
              "</style>\n",
              "<table border=\"1\" class=\"dataframe\">\n",
              "  <thead>\n",
              "    <tr style=\"text-align: right;\">\n",
              "      <th></th>\n",
              "      <th>Pixels H1</th>\n",
              "      <th>Pixels L1</th>\n",
              "      <th>Twin</th>\n",
              "      <th>GW injection</th>\n",
              "      <th>Template</th>\n",
              "      <th>Distance</th>\n",
              "    </tr>\n",
              "  </thead>\n",
              "  <tbody>\n",
              "    <tr>\n",
              "      <th>0</th>\n",
              "      <td>[[0.6671221011, 0.8246112875, 1.0935741992, 1....</td>\n",
              "      <td>[[0.6268522979000001, 0.2885270893, 0.12907088...</td>\n",
              "      <td>869.170290</td>\n",
              "      <td>1</td>\n",
              "      <td>sch3</td>\n",
              "      <td>0.031626</td>\n",
              "    </tr>\n",
              "    <tr>\n",
              "      <th>1</th>\n",
              "      <td>[[0.1273723069, 0.027398567300000003, 0.000364...</td>\n",
              "      <td>[[1.5275692769, 1.6736162632, 1.5662285443, 1....</td>\n",
              "      <td>10.491783</td>\n",
              "      <td>0</td>\n",
              "      <td>NaN</td>\n",
              "      <td>0.031626</td>\n",
              "    </tr>\n",
              "    <tr>\n",
              "      <th>2</th>\n",
              "      <td>[[0.9715096099, 1.0902210682, 1.25730067109999...</td>\n",
              "      <td>[[2.8905482979, 2.5858256658, 2.0183065708, 1....</td>\n",
              "      <td>10.491783</td>\n",
              "      <td>1</td>\n",
              "      <td>sch2</td>\n",
              "      <td>0.031626</td>\n",
              "    </tr>\n",
              "    <tr>\n",
              "      <th>3</th>\n",
              "      <td>[[1.1038850136, 1.3463503, 1.7232404994000001,...</td>\n",
              "      <td>[[0.7286555221000001, 0.49838899600000003, 0.3...</td>\n",
              "      <td>890.915274</td>\n",
              "      <td>0</td>\n",
              "      <td>NaN</td>\n",
              "      <td>0.031626</td>\n",
              "    </tr>\n",
              "    <tr>\n",
              "      <th>4</th>\n",
              "      <td>[[2.129061328, 2.4446815326999998, 2.632915256...</td>\n",
              "      <td>[[7.090021403, 4.6660909789, 2.6294095984, 1.2...</td>\n",
              "      <td>1149.403197</td>\n",
              "      <td>0</td>\n",
              "      <td>NaN</td>\n",
              "      <td>0.031626</td>\n",
              "    </tr>\n",
              "  </tbody>\n",
              "</table>\n",
              "</div>\n",
              "    <div class=\"colab-df-buttons\">\n",
              "\n",
              "  <div class=\"colab-df-container\">\n",
              "    <button class=\"colab-df-convert\" onclick=\"convertToInteractive('df-8ddd8906-be33-4008-955c-d238134edbe7')\"\n",
              "            title=\"Convert this dataframe to an interactive table.\"\n",
              "            style=\"display:none;\">\n",
              "\n",
              "  <svg xmlns=\"http://www.w3.org/2000/svg\" height=\"24px\" viewBox=\"0 -960 960 960\">\n",
              "    <path d=\"M120-120v-720h720v720H120Zm60-500h600v-160H180v160Zm220 220h160v-160H400v160Zm0 220h160v-160H400v160ZM180-400h160v-160H180v160Zm440 0h160v-160H620v160ZM180-180h160v-160H180v160Zm440 0h160v-160H620v160Z\"/>\n",
              "  </svg>\n",
              "    </button>\n",
              "\n",
              "  <style>\n",
              "    .colab-df-container {\n",
              "      display:flex;\n",
              "      gap: 12px;\n",
              "    }\n",
              "\n",
              "    .colab-df-convert {\n",
              "      background-color: #E8F0FE;\n",
              "      border: none;\n",
              "      border-radius: 50%;\n",
              "      cursor: pointer;\n",
              "      display: none;\n",
              "      fill: #1967D2;\n",
              "      height: 32px;\n",
              "      padding: 0 0 0 0;\n",
              "      width: 32px;\n",
              "    }\n",
              "\n",
              "    .colab-df-convert:hover {\n",
              "      background-color: #E2EBFA;\n",
              "      box-shadow: 0px 1px 2px rgba(60, 64, 67, 0.3), 0px 1px 3px 1px rgba(60, 64, 67, 0.15);\n",
              "      fill: #174EA6;\n",
              "    }\n",
              "\n",
              "    .colab-df-buttons div {\n",
              "      margin-bottom: 4px;\n",
              "    }\n",
              "\n",
              "    [theme=dark] .colab-df-convert {\n",
              "      background-color: #3B4455;\n",
              "      fill: #D2E3FC;\n",
              "    }\n",
              "\n",
              "    [theme=dark] .colab-df-convert:hover {\n",
              "      background-color: #434B5C;\n",
              "      box-shadow: 0px 1px 3px 1px rgba(0, 0, 0, 0.15);\n",
              "      filter: drop-shadow(0px 1px 2px rgba(0, 0, 0, 0.3));\n",
              "      fill: #FFFFFF;\n",
              "    }\n",
              "  </style>\n",
              "\n",
              "    <script>\n",
              "      const buttonEl =\n",
              "        document.querySelector('#df-8ddd8906-be33-4008-955c-d238134edbe7 button.colab-df-convert');\n",
              "      buttonEl.style.display =\n",
              "        google.colab.kernel.accessAllowed ? 'block' : 'none';\n",
              "\n",
              "      async function convertToInteractive(key) {\n",
              "        const element = document.querySelector('#df-8ddd8906-be33-4008-955c-d238134edbe7');\n",
              "        const dataTable =\n",
              "          await google.colab.kernel.invokeFunction('convertToInteractive',\n",
              "                                                    [key], {});\n",
              "        if (!dataTable) return;\n",
              "\n",
              "        const docLinkHtml = 'Like what you see? Visit the ' +\n",
              "          '<a target=\"_blank\" href=https://colab.research.google.com/notebooks/data_table.ipynb>data table notebook</a>'\n",
              "          + ' to learn more about interactive tables.';\n",
              "        element.innerHTML = '';\n",
              "        dataTable['output_type'] = 'display_data';\n",
              "        await google.colab.output.renderOutput(dataTable, element);\n",
              "        const docLink = document.createElement('div');\n",
              "        docLink.innerHTML = docLinkHtml;\n",
              "        element.appendChild(docLink);\n",
              "      }\n",
              "    </script>\n",
              "  </div>\n",
              "\n",
              "\n",
              "<div id=\"df-74cf69c9-9971-4128-b89c-e0d36614f96b\">\n",
              "  <button class=\"colab-df-quickchart\" onclick=\"quickchart('df-74cf69c9-9971-4128-b89c-e0d36614f96b')\"\n",
              "            title=\"Suggest charts.\"\n",
              "            style=\"display:none;\">\n",
              "\n",
              "<svg xmlns=\"http://www.w3.org/2000/svg\" height=\"24px\"viewBox=\"0 0 24 24\"\n",
              "     width=\"24px\">\n",
              "    <g>\n",
              "        <path d=\"M19 3H5c-1.1 0-2 .9-2 2v14c0 1.1.9 2 2 2h14c1.1 0 2-.9 2-2V5c0-1.1-.9-2-2-2zM9 17H7v-7h2v7zm4 0h-2V7h2v10zm4 0h-2v-4h2v4z\"/>\n",
              "    </g>\n",
              "</svg>\n",
              "  </button>\n",
              "\n",
              "<style>\n",
              "  .colab-df-quickchart {\n",
              "    background-color: #E8F0FE;\n",
              "    border: none;\n",
              "    border-radius: 50%;\n",
              "    cursor: pointer;\n",
              "    display: none;\n",
              "    fill: #1967D2;\n",
              "    height: 32px;\n",
              "    padding: 0 0 0 0;\n",
              "    width: 32px;\n",
              "  }\n",
              "\n",
              "  .colab-df-quickchart:hover {\n",
              "    background-color: #E2EBFA;\n",
              "    box-shadow: 0px 1px 2px rgba(60, 64, 67, 0.3), 0px 1px 3px 1px rgba(60, 64, 67, 0.15);\n",
              "    fill: #174EA6;\n",
              "  }\n",
              "\n",
              "  [theme=dark] .colab-df-quickchart {\n",
              "    background-color: #3B4455;\n",
              "    fill: #D2E3FC;\n",
              "  }\n",
              "\n",
              "  [theme=dark] .colab-df-quickchart:hover {\n",
              "    background-color: #434B5C;\n",
              "    box-shadow: 0px 1px 3px 1px rgba(0, 0, 0, 0.15);\n",
              "    filter: drop-shadow(0px 1px 2px rgba(0, 0, 0, 0.3));\n",
              "    fill: #FFFFFF;\n",
              "  }\n",
              "</style>\n",
              "\n",
              "  <script>\n",
              "    async function quickchart(key) {\n",
              "      const charts = await google.colab.kernel.invokeFunction(\n",
              "          'suggestCharts', [key], {});\n",
              "    }\n",
              "    (() => {\n",
              "      let quickchartButtonEl =\n",
              "        document.querySelector('#df-74cf69c9-9971-4128-b89c-e0d36614f96b button');\n",
              "      quickchartButtonEl.style.display =\n",
              "        google.colab.kernel.accessAllowed ? 'block' : 'none';\n",
              "    })();\n",
              "  </script>\n",
              "</div>\n",
              "    </div>\n",
              "  </div>\n"
            ]
          },
          "metadata": {},
          "execution_count": 5
        }
      ]
    },
    {
      "cell_type": "markdown",
      "source": [
        "\n",
        "*   Pixels H1 and Pixels L1 are the images.\n",
        "*   Twin, in this case, is the initial time where a window of 0.5 seconds were extracted from the original strain data segment.\n",
        "*   GW injection is a label, 0 or 1, denoting the absence or presence (total or partial) of a gravitational wave, respectively.\n",
        "*   Template is the type of GW present if GW_injection=1 samples. For Scheideger et al. 2010, we have two models: **sch1** and **sch2**."
      ],
      "metadata": {
        "id": "DSJpSh96h697"
      }
    },
    {
      "cell_type": "code",
      "source": [
        "print(type(dfJob2['Pixels L1'].iloc[0]))\n",
        "print(type(dfJob2['Pixels H1'].iloc[0]))"
      ],
      "metadata": {
        "colab": {
          "base_uri": "https://localhost:8080/"
        },
        "id": "vu8z1oQjYqB3",
        "outputId": "d314b4f6-b7b9-45db-c0f7-d4ac268f5331"
      },
      "execution_count": null,
      "outputs": [
        {
          "output_type": "stream",
          "name": "stdout",
          "text": [
            "<class 'list'>\n",
            "<class 'list'>\n"
          ]
        }
      ]
    },
    {
      "cell_type": "code",
      "source": [
        "# ------> Convert pixels from list to numpy arrays\n",
        "\n",
        "dfJob2['Pixels H1'] = dfJob2['Pixels H1'].apply(lambda x: np.array(x))\n",
        "dfJob2['Pixels L1'] = dfJob2['Pixels L1'].apply(lambda x: np.array(x))\n",
        "\n",
        "dfJob3['Pixels H1'] = dfJob3['Pixels H1'].apply(lambda x: np.array(x))\n",
        "dfJob3['Pixels L1'] = dfJob3['Pixels L1'].apply(lambda x: np.array(x))\n",
        "\n",
        "dfJob4['Pixels H1'] = dfJob4['Pixels H1'].apply(lambda x: np.array(x))\n",
        "dfJob4['Pixels L1'] = dfJob4['Pixels L1'].apply(lambda x: np.array(x))\n",
        "\n",
        "dfJob5['Pixels H1'] = dfJob5['Pixels H1'].apply(lambda x: np.array(x))\n",
        "dfJob5['Pixels L1'] = dfJob5['Pixels L1'].apply(lambda x: np.array(x))"
      ],
      "metadata": {
        "id": "9lHtb8yIatgv"
      },
      "execution_count": null,
      "outputs": []
    },
    {
      "cell_type": "code",
      "source": [
        "print(type(dfJob2['Pixels L1'].iloc[0]))\n",
        "print(type(dfJob2['Pixels H1'].iloc[0]))"
      ],
      "metadata": {
        "colab": {
          "base_uri": "https://localhost:8080/"
        },
        "id": "85nle1KpcU0s",
        "outputId": "c1f660f5-0a1c-4b26-e9f0-ad05009a9616"
      },
      "execution_count": null,
      "outputs": [
        {
          "output_type": "stream",
          "name": "stdout",
          "text": [
            "<class 'numpy.ndarray'>\n",
            "<class 'numpy.ndarray'>\n"
          ]
        }
      ]
    },
    {
      "cell_type": "markdown",
      "source": [
        "## **Part 3: Dataset preparation**"
      ],
      "metadata": {
        "id": "8sBPUwLGdUj-"
      }
    },
    {
      "cell_type": "code",
      "source": [
        "# ------> dfJobs concatenation\n",
        "\n",
        "print(\"dfJob2 lenght: \", len(dfJob2))\n",
        "print(\"dfJob3 lenght: \", len(dfJob3))\n",
        "print(\"dfJob4 lenght: \", len(dfJob4))\n",
        "print(\"dfJob5 lenght: \", len(dfJob5))\n",
        "\n",
        "c = pd.concat([dfJob2,dfJob3,dfJob4,dfJob5])\n",
        "c = c.reset_index(drop=True)\n",
        "\n",
        "print(\"\")\n",
        "print(\"Lenght of c (concatenation):\", len(c))"
      ],
      "metadata": {
        "id": "a6JDFtUGc_2Z",
        "colab": {
          "base_uri": "https://localhost:8080/"
        },
        "outputId": "be2bcee7-f47f-4660-f77d-d497c06b41c2"
      },
      "execution_count": null,
      "outputs": [
        {
          "output_type": "stream",
          "name": "stdout",
          "text": [
            "dfJob2 lenght:  366\n",
            "dfJob3 lenght:  366\n",
            "dfJob4 lenght:  366\n",
            "dfJob5 lenght:  366\n",
            "\n",
            "Lenght of c (concatenation): 1464\n"
          ]
        }
      ]
    },
    {
      "cell_type": "code",
      "source": [
        "# The above dataset has images of dimension 48X48 mostly. However, the are\n",
        "# some images of dimension 47X48 in H1 data, so we need to filter that data.\n",
        "# (This was a small error that occurred during the process of window samples\n",
        "# extractions from the original stran data segements)\n",
        "\n",
        "# ------> We extract images of 48x48 pixels, only.\n",
        "\n",
        "quit = []\n",
        "for i in range(len(c)):\n",
        "  if c['Pixels H1'].iloc[i].shape != (48,48) :\n",
        "    quit.append(i)\n",
        "\n",
        "c = c.drop(quit)\n",
        "\n",
        "print(\"Lenght of reduced c dataframe of 48x48 images only:\", len(c))\n",
        "display(c)"
      ],
      "metadata": {
        "colab": {
          "base_uri": "https://localhost:8080/",
          "height": 826
        },
        "id": "AaIMbqrUuMOQ",
        "outputId": "d5351974-d3f0-4119-d381-34a9362117b3"
      },
      "execution_count": null,
      "outputs": [
        {
          "output_type": "stream",
          "name": "stdout",
          "text": [
            "Lenght of reduced c dataframe of 48x48 images only: 1417\n"
          ]
        },
        {
          "output_type": "display_data",
          "data": {
            "text/plain": [
              "                                              Pixels H1  \\\n",
              "0     [[0.6671221011, 0.8246112875, 1.0935741992, 1....   \n",
              "1     [[0.1273723069, 0.027398567300000003, 0.000364...   \n",
              "2     [[0.9715096099, 1.0902210682, 1.25730067109999...   \n",
              "3     [[1.1038850136, 1.3463503, 1.7232404994000001,...   \n",
              "4     [[2.129061328, 2.4446815326999998, 2.632915256...   \n",
              "...                                                 ...   \n",
              "1459  [[2.2254580132, 1.9484042225, 1.6321143212, 1....   \n",
              "1460  [[0.3179468731, 0.2854395753, 0.2616697028, 0....   \n",
              "1461  [[0.565950307, 0.4385646884, 0.2924311798, 0.1...   \n",
              "1462  [[1.064430518, 1.0063083303, 0.9020011592, 0.7...   \n",
              "1463  [[0.6303319365000001, 0.5386171711000001, 0.46...   \n",
              "\n",
              "                                              Pixels L1         Twin  \\\n",
              "0     [[0.6268522979000001, 0.2885270893, 0.12907088...   869.170290   \n",
              "1     [[1.5275692769, 1.6736162632, 1.5662285443, 1....    10.491783   \n",
              "2     [[2.8905482979, 2.5858256658, 2.0183065708, 1....    10.491783   \n",
              "3     [[0.7286555221000001, 0.49838899600000003, 0.3...   890.915274   \n",
              "4     [[7.090021403, 4.6660909789, 2.6294095984, 1.2...  1149.403197   \n",
              "...                                                 ...          ...   \n",
              "1459  [[0.7899265942, 0.6460288981, 0.48384361940000...   969.627510   \n",
              "1460  [[1.7587076697000001, 1.1955678493, 0.74485918...   949.190407   \n",
              "1461  [[0.0352043911, 0.1223006153, 0.2783929472, 0....   770.786802   \n",
              "1462  [[1.1746721467, 1.6418202721, 2.1477477656, 2....   110.750426   \n",
              "1463  [[4.1176531568, 4.1654713021, 3.9081055029, 3....  1069.758199   \n",
              "\n",
              "      GW injection Template  Distance  \n",
              "0                1     sch3  0.031626  \n",
              "1                0      NaN  0.031626  \n",
              "2                1     sch2  0.031626  \n",
              "3                0      NaN  0.031626  \n",
              "4                0      NaN  0.031626  \n",
              "...            ...      ...       ...  \n",
              "1459             0      NaN  0.031626  \n",
              "1460             0      NaN  0.031626  \n",
              "1461             0      NaN  0.031626  \n",
              "1462             0      NaN  0.031626  \n",
              "1463             1     sch2  0.031626  \n",
              "\n",
              "[1417 rows x 6 columns]"
            ],
            "text/html": [
              "\n",
              "  <div id=\"df-76f44839-9dea-4924-ab62-4ecf16af7418\" class=\"colab-df-container\">\n",
              "    <div>\n",
              "<style scoped>\n",
              "    .dataframe tbody tr th:only-of-type {\n",
              "        vertical-align: middle;\n",
              "    }\n",
              "\n",
              "    .dataframe tbody tr th {\n",
              "        vertical-align: top;\n",
              "    }\n",
              "\n",
              "    .dataframe thead th {\n",
              "        text-align: right;\n",
              "    }\n",
              "</style>\n",
              "<table border=\"1\" class=\"dataframe\">\n",
              "  <thead>\n",
              "    <tr style=\"text-align: right;\">\n",
              "      <th></th>\n",
              "      <th>Pixels H1</th>\n",
              "      <th>Pixels L1</th>\n",
              "      <th>Twin</th>\n",
              "      <th>GW injection</th>\n",
              "      <th>Template</th>\n",
              "      <th>Distance</th>\n",
              "    </tr>\n",
              "  </thead>\n",
              "  <tbody>\n",
              "    <tr>\n",
              "      <th>0</th>\n",
              "      <td>[[0.6671221011, 0.8246112875, 1.0935741992, 1....</td>\n",
              "      <td>[[0.6268522979000001, 0.2885270893, 0.12907088...</td>\n",
              "      <td>869.170290</td>\n",
              "      <td>1</td>\n",
              "      <td>sch3</td>\n",
              "      <td>0.031626</td>\n",
              "    </tr>\n",
              "    <tr>\n",
              "      <th>1</th>\n",
              "      <td>[[0.1273723069, 0.027398567300000003, 0.000364...</td>\n",
              "      <td>[[1.5275692769, 1.6736162632, 1.5662285443, 1....</td>\n",
              "      <td>10.491783</td>\n",
              "      <td>0</td>\n",
              "      <td>NaN</td>\n",
              "      <td>0.031626</td>\n",
              "    </tr>\n",
              "    <tr>\n",
              "      <th>2</th>\n",
              "      <td>[[0.9715096099, 1.0902210682, 1.25730067109999...</td>\n",
              "      <td>[[2.8905482979, 2.5858256658, 2.0183065708, 1....</td>\n",
              "      <td>10.491783</td>\n",
              "      <td>1</td>\n",
              "      <td>sch2</td>\n",
              "      <td>0.031626</td>\n",
              "    </tr>\n",
              "    <tr>\n",
              "      <th>3</th>\n",
              "      <td>[[1.1038850136, 1.3463503, 1.7232404994000001,...</td>\n",
              "      <td>[[0.7286555221000001, 0.49838899600000003, 0.3...</td>\n",
              "      <td>890.915274</td>\n",
              "      <td>0</td>\n",
              "      <td>NaN</td>\n",
              "      <td>0.031626</td>\n",
              "    </tr>\n",
              "    <tr>\n",
              "      <th>4</th>\n",
              "      <td>[[2.129061328, 2.4446815326999998, 2.632915256...</td>\n",
              "      <td>[[7.090021403, 4.6660909789, 2.6294095984, 1.2...</td>\n",
              "      <td>1149.403197</td>\n",
              "      <td>0</td>\n",
              "      <td>NaN</td>\n",
              "      <td>0.031626</td>\n",
              "    </tr>\n",
              "    <tr>\n",
              "      <th>...</th>\n",
              "      <td>...</td>\n",
              "      <td>...</td>\n",
              "      <td>...</td>\n",
              "      <td>...</td>\n",
              "      <td>...</td>\n",
              "      <td>...</td>\n",
              "    </tr>\n",
              "    <tr>\n",
              "      <th>1459</th>\n",
              "      <td>[[2.2254580132, 1.9484042225, 1.6321143212, 1....</td>\n",
              "      <td>[[0.7899265942, 0.6460288981, 0.48384361940000...</td>\n",
              "      <td>969.627510</td>\n",
              "      <td>0</td>\n",
              "      <td>NaN</td>\n",
              "      <td>0.031626</td>\n",
              "    </tr>\n",
              "    <tr>\n",
              "      <th>1460</th>\n",
              "      <td>[[0.3179468731, 0.2854395753, 0.2616697028, 0....</td>\n",
              "      <td>[[1.7587076697000001, 1.1955678493, 0.74485918...</td>\n",
              "      <td>949.190407</td>\n",
              "      <td>0</td>\n",
              "      <td>NaN</td>\n",
              "      <td>0.031626</td>\n",
              "    </tr>\n",
              "    <tr>\n",
              "      <th>1461</th>\n",
              "      <td>[[0.565950307, 0.4385646884, 0.2924311798, 0.1...</td>\n",
              "      <td>[[0.0352043911, 0.1223006153, 0.2783929472, 0....</td>\n",
              "      <td>770.786802</td>\n",
              "      <td>0</td>\n",
              "      <td>NaN</td>\n",
              "      <td>0.031626</td>\n",
              "    </tr>\n",
              "    <tr>\n",
              "      <th>1462</th>\n",
              "      <td>[[1.064430518, 1.0063083303, 0.9020011592, 0.7...</td>\n",
              "      <td>[[1.1746721467, 1.6418202721, 2.1477477656, 2....</td>\n",
              "      <td>110.750426</td>\n",
              "      <td>0</td>\n",
              "      <td>NaN</td>\n",
              "      <td>0.031626</td>\n",
              "    </tr>\n",
              "    <tr>\n",
              "      <th>1463</th>\n",
              "      <td>[[0.6303319365000001, 0.5386171711000001, 0.46...</td>\n",
              "      <td>[[4.1176531568, 4.1654713021, 3.9081055029, 3....</td>\n",
              "      <td>1069.758199</td>\n",
              "      <td>1</td>\n",
              "      <td>sch2</td>\n",
              "      <td>0.031626</td>\n",
              "    </tr>\n",
              "  </tbody>\n",
              "</table>\n",
              "<p>1417 rows × 6 columns</p>\n",
              "</div>\n",
              "    <div class=\"colab-df-buttons\">\n",
              "\n",
              "  <div class=\"colab-df-container\">\n",
              "    <button class=\"colab-df-convert\" onclick=\"convertToInteractive('df-76f44839-9dea-4924-ab62-4ecf16af7418')\"\n",
              "            title=\"Convert this dataframe to an interactive table.\"\n",
              "            style=\"display:none;\">\n",
              "\n",
              "  <svg xmlns=\"http://www.w3.org/2000/svg\" height=\"24px\" viewBox=\"0 -960 960 960\">\n",
              "    <path d=\"M120-120v-720h720v720H120Zm60-500h600v-160H180v160Zm220 220h160v-160H400v160Zm0 220h160v-160H400v160ZM180-400h160v-160H180v160Zm440 0h160v-160H620v160ZM180-180h160v-160H180v160Zm440 0h160v-160H620v160Z\"/>\n",
              "  </svg>\n",
              "    </button>\n",
              "\n",
              "  <style>\n",
              "    .colab-df-container {\n",
              "      display:flex;\n",
              "      gap: 12px;\n",
              "    }\n",
              "\n",
              "    .colab-df-convert {\n",
              "      background-color: #E8F0FE;\n",
              "      border: none;\n",
              "      border-radius: 50%;\n",
              "      cursor: pointer;\n",
              "      display: none;\n",
              "      fill: #1967D2;\n",
              "      height: 32px;\n",
              "      padding: 0 0 0 0;\n",
              "      width: 32px;\n",
              "    }\n",
              "\n",
              "    .colab-df-convert:hover {\n",
              "      background-color: #E2EBFA;\n",
              "      box-shadow: 0px 1px 2px rgba(60, 64, 67, 0.3), 0px 1px 3px 1px rgba(60, 64, 67, 0.15);\n",
              "      fill: #174EA6;\n",
              "    }\n",
              "\n",
              "    .colab-df-buttons div {\n",
              "      margin-bottom: 4px;\n",
              "    }\n",
              "\n",
              "    [theme=dark] .colab-df-convert {\n",
              "      background-color: #3B4455;\n",
              "      fill: #D2E3FC;\n",
              "    }\n",
              "\n",
              "    [theme=dark] .colab-df-convert:hover {\n",
              "      background-color: #434B5C;\n",
              "      box-shadow: 0px 1px 3px 1px rgba(0, 0, 0, 0.15);\n",
              "      filter: drop-shadow(0px 1px 2px rgba(0, 0, 0, 0.3));\n",
              "      fill: #FFFFFF;\n",
              "    }\n",
              "  </style>\n",
              "\n",
              "    <script>\n",
              "      const buttonEl =\n",
              "        document.querySelector('#df-76f44839-9dea-4924-ab62-4ecf16af7418 button.colab-df-convert');\n",
              "      buttonEl.style.display =\n",
              "        google.colab.kernel.accessAllowed ? 'block' : 'none';\n",
              "\n",
              "      async function convertToInteractive(key) {\n",
              "        const element = document.querySelector('#df-76f44839-9dea-4924-ab62-4ecf16af7418');\n",
              "        const dataTable =\n",
              "          await google.colab.kernel.invokeFunction('convertToInteractive',\n",
              "                                                    [key], {});\n",
              "        if (!dataTable) return;\n",
              "\n",
              "        const docLinkHtml = 'Like what you see? Visit the ' +\n",
              "          '<a target=\"_blank\" href=https://colab.research.google.com/notebooks/data_table.ipynb>data table notebook</a>'\n",
              "          + ' to learn more about interactive tables.';\n",
              "        element.innerHTML = '';\n",
              "        dataTable['output_type'] = 'display_data';\n",
              "        await google.colab.output.renderOutput(dataTable, element);\n",
              "        const docLink = document.createElement('div');\n",
              "        docLink.innerHTML = docLinkHtml;\n",
              "        element.appendChild(docLink);\n",
              "      }\n",
              "    </script>\n",
              "  </div>\n",
              "\n",
              "\n",
              "<div id=\"df-07bc7299-e211-4a01-971d-dd137a089703\">\n",
              "  <button class=\"colab-df-quickchart\" onclick=\"quickchart('df-07bc7299-e211-4a01-971d-dd137a089703')\"\n",
              "            title=\"Suggest charts.\"\n",
              "            style=\"display:none;\">\n",
              "\n",
              "<svg xmlns=\"http://www.w3.org/2000/svg\" height=\"24px\"viewBox=\"0 0 24 24\"\n",
              "     width=\"24px\">\n",
              "    <g>\n",
              "        <path d=\"M19 3H5c-1.1 0-2 .9-2 2v14c0 1.1.9 2 2 2h14c1.1 0 2-.9 2-2V5c0-1.1-.9-2-2-2zM9 17H7v-7h2v7zm4 0h-2V7h2v10zm4 0h-2v-4h2v4z\"/>\n",
              "    </g>\n",
              "</svg>\n",
              "  </button>\n",
              "\n",
              "<style>\n",
              "  .colab-df-quickchart {\n",
              "    background-color: #E8F0FE;\n",
              "    border: none;\n",
              "    border-radius: 50%;\n",
              "    cursor: pointer;\n",
              "    display: none;\n",
              "    fill: #1967D2;\n",
              "    height: 32px;\n",
              "    padding: 0 0 0 0;\n",
              "    width: 32px;\n",
              "  }\n",
              "\n",
              "  .colab-df-quickchart:hover {\n",
              "    background-color: #E2EBFA;\n",
              "    box-shadow: 0px 1px 2px rgba(60, 64, 67, 0.3), 0px 1px 3px 1px rgba(60, 64, 67, 0.15);\n",
              "    fill: #174EA6;\n",
              "  }\n",
              "\n",
              "  [theme=dark] .colab-df-quickchart {\n",
              "    background-color: #3B4455;\n",
              "    fill: #D2E3FC;\n",
              "  }\n",
              "\n",
              "  [theme=dark] .colab-df-quickchart:hover {\n",
              "    background-color: #434B5C;\n",
              "    box-shadow: 0px 1px 3px 1px rgba(0, 0, 0, 0.15);\n",
              "    filter: drop-shadow(0px 1px 2px rgba(0, 0, 0, 0.3));\n",
              "    fill: #FFFFFF;\n",
              "  }\n",
              "</style>\n",
              "\n",
              "  <script>\n",
              "    async function quickchart(key) {\n",
              "      const charts = await google.colab.kernel.invokeFunction(\n",
              "          'suggestCharts', [key], {});\n",
              "    }\n",
              "    (() => {\n",
              "      let quickchartButtonEl =\n",
              "        document.querySelector('#df-07bc7299-e211-4a01-971d-dd137a089703 button');\n",
              "      quickchartButtonEl.style.display =\n",
              "        google.colab.kernel.accessAllowed ? 'block' : 'none';\n",
              "    })();\n",
              "  </script>\n",
              "</div>\n",
              "    </div>\n",
              "  </div>\n"
            ]
          },
          "metadata": {}
        }
      ]
    },
    {
      "cell_type": "markdown",
      "source": [
        "### **Features: Pixels H1 and L1**"
      ],
      "metadata": {
        "id": "weQP9sq3NTrt"
      }
    },
    {
      "cell_type": "code",
      "source": [
        "# ------> Reshape H1 pixels\n",
        "\n",
        "# Select \"Pixels H1\" column from c dataframe\n",
        "H1 = c['Pixels H1']\n",
        "\n",
        "# 2D arrays preparation\n",
        "H1_arr = np.empty((0,48,48), dtype=float)\n",
        "\n",
        "# Fill the 2D arrays\n",
        "for i in range(len(H1)):\n",
        "  a = H1.iloc[i]\n",
        "  H1_arr = np.append(H1_arr, a.reshape(1,48,48), axis=0)\n",
        "\n",
        "# Check the dimension\n",
        "print(\"Dimension of H1 pixels:\", H1_arr.shape)"
      ],
      "metadata": {
        "colab": {
          "base_uri": "https://localhost:8080/"
        },
        "id": "1usN8QJeIAmz",
        "outputId": "5fbdd5cd-e360-4bb2-8cc4-574c8b6c11fc"
      },
      "execution_count": null,
      "outputs": [
        {
          "output_type": "stream",
          "name": "stdout",
          "text": [
            "Dimension of H1 pixels: (1417, 48, 48)\n"
          ]
        }
      ]
    },
    {
      "cell_type": "code",
      "source": [
        "# ------> Reshape L1 pixels\n",
        "\n",
        "# Select \"Pixels L1\" column from c dataframe\n",
        "L1 = c['Pixels L1']\n",
        "\n",
        "# 2D arrays preparation\n",
        "L1_arr = np.empty((0,48,48), dtype=float)\n",
        "\n",
        "# Fill the 2D arrays\n",
        "for i in range(len(L1)):\n",
        "  a = L1.iloc[i]\n",
        "  L1_arr = np.append(L1_arr, a.reshape(1,48,48), axis=0)\n",
        "\n",
        "# Check the dimension\n",
        "print(\"Dimension of L1 pixels:\", L1_arr.shape)"
      ],
      "metadata": {
        "colab": {
          "base_uri": "https://localhost:8080/"
        },
        "id": "R1cMb-NxIrUl",
        "outputId": "abfc467c-a64f-41f6-ad29-804139b6c823"
      },
      "execution_count": null,
      "outputs": [
        {
          "output_type": "stream",
          "name": "stdout",
          "text": [
            "Dimension of L1 pixels: (1417, 48, 48)\n"
          ]
        }
      ]
    },
    {
      "cell_type": "code",
      "source": [
        "# ------> Reshape H1 and L1 pixels, together\n",
        "\n",
        "# 2D (x 2 channels) arrays preparation\n",
        "H1L1_arr = np.empty((0,48,48,2), dtype=float)\n",
        "\n",
        "# Fill the 2D arrays (x 2 channels)\n",
        "for i in range(len(H1_arr)):\n",
        "  x = np.append(H1_arr[i].reshape(48,48,1), L1_arr[i].reshape(48,48,1), axis=2)\n",
        "  H1L1_arr = np.append(H1L1_arr, x.reshape(1,48,48,2), axis=0)\n",
        "\n",
        "# Check the dimension\n",
        "print(\"Dimension of H1+L1 pixels:\", H1L1_arr.shape)\n"
      ],
      "metadata": {
        "colab": {
          "base_uri": "https://localhost:8080/"
        },
        "id": "4A52Zx-iKqfV",
        "outputId": "121c9241-add6-438f-c2fa-0c12b4aca84a"
      },
      "execution_count": null,
      "outputs": [
        {
          "output_type": "stream",
          "name": "stdout",
          "text": [
            "Dimension of H1+L1 pixels: (1417, 48, 48, 2)\n"
          ]
        }
      ]
    },
    {
      "cell_type": "markdown",
      "source": [
        "### **Target class: GW injection**"
      ],
      "metadata": {
        "id": "kDyk_apJNibl"
      }
    },
    {
      "cell_type": "code",
      "metadata": {
        "id": "w3PiOWR03QQ_",
        "colab": {
          "base_uri": "https://localhost:8080/"
        },
        "outputId": "429774b3-ac56-4e38-cbf5-2d93c8110ca1"
      },
      "source": [
        "# ------> Reshape target label, together\n",
        "\n",
        "# Select \"GW injection\" column from c dataframe\n",
        "GW_injection = c['GW injection']\n",
        "\n",
        "# Target list preparation\n",
        "classes = []\n",
        "\n",
        "# Fill the list and convert tu numpy array\n",
        "for i in range(len(GW_injection)):\n",
        "  classes.append(GW_injection.iloc[i])\n",
        "classes = np.array(classes)\n",
        "\n",
        "# Check the dimension\n",
        "print(\"Dimension of classes vector:\", classes.shape)"
      ],
      "execution_count": null,
      "outputs": [
        {
          "output_type": "stream",
          "name": "stdout",
          "text": [
            "Dimension of classes vector: (1417,)\n"
          ]
        }
      ]
    },
    {
      "cell_type": "markdown",
      "source": [
        "### **Split: Train / Validation / Test**"
      ],
      "metadata": {
        "id": "7D5i0llfiXrz"
      }
    },
    {
      "cell_type": "markdown",
      "source": [
        "#### **Single-interferometer data**\n",
        "\n",
        "We perform this split for H1 single-inteferometer data. However, the procedure is exactly the same for L1 data."
      ],
      "metadata": {
        "id": "Hw3g5XpftAfr"
      }
    },
    {
      "cell_type": "code",
      "source": [
        "# Train (70%) and Test (30%)\n",
        "X_train, X_test, y_train, y_test = train_test_split(H1_arr, classes, test_size=0.3, random_state=43)\n",
        "\n",
        "# Check dimensions\n",
        "X_train.shape, X_test.shape, y_train.shape, y_test.shape"
      ],
      "metadata": {
        "colab": {
          "base_uri": "https://localhost:8080/"
        },
        "outputId": "7fe820cb-b66a-480d-9f39-142326bf5d08",
        "id": "gQPsnF9XiVKm"
      },
      "execution_count": null,
      "outputs": [
        {
          "output_type": "execute_result",
          "data": {
            "text/plain": [
              "((991, 48, 48), (426, 48, 48), (991,), (426,))"
            ]
          },
          "metadata": {},
          "execution_count": 15
        }
      ]
    },
    {
      "cell_type": "code",
      "source": [
        "# Train (90%) and Validation (10%)\n",
        "X_train, X_vali, y_train, y_vali = train_test_split(X_train, y_train, test_size=0.1, random_state=43)\n",
        "\n",
        "# Check dimensions\n",
        "X_train.shape, X_vali.shape, y_train.shape, y_vali.shape"
      ],
      "metadata": {
        "colab": {
          "base_uri": "https://localhost:8080/"
        },
        "id": "kLVs5H_Kl_V2",
        "outputId": "42179782-0011-431f-cf6f-aa002db733b6"
      },
      "execution_count": null,
      "outputs": [
        {
          "output_type": "execute_result",
          "data": {
            "text/plain": [
              "((891, 48, 48), (100, 48, 48), (891,), (100,))"
            ]
          },
          "metadata": {},
          "execution_count": 16
        }
      ]
    },
    {
      "cell_type": "code",
      "source": [
        "# ------> Plot two representative samples of the train set.\n",
        "\n",
        "plt.rcParams[\"figure.figsize\"] = [7.00, 3.50]\n",
        "plt.rcParams[\"figure.autolayout\"] = True\n",
        "data2D = X_train[0]\n",
        "im = plt.imshow(data2D, cmap=\"viridis\")\n",
        "plt.colorbar(im)\n",
        "plt.title(\"Sample of class 0 (Noise only)\")\n",
        "plt.show()\n",
        "\n",
        "plt.rcParams[\"figure.figsize\"] = [7.00, 3.50]\n",
        "plt.rcParams[\"figure.autolayout\"] = True\n",
        "data2D = X_train[7]\n",
        "im = plt.imshow(data2D, cmap=\"viridis\")\n",
        "plt.colorbar(im)\n",
        "plt.title(\"Sample of class 1  (Noise + GW)\")\n",
        "plt.show()"
      ],
      "metadata": {
        "colab": {
          "base_uri": "https://localhost:8080/",
          "height": 697
        },
        "id": "xTuwixy-qg7H",
        "outputId": "148e8722-6641-4ea7-d5fb-f5d5d8f8c5f3"
      },
      "execution_count": null,
      "outputs": [
        {
          "output_type": "display_data",
          "data": {
            "text/plain": [
              "<Figure size 700x350 with 2 Axes>"
            ],
            "image/png": "[encoded data removed]"
          },
          "metadata": {}
        },
        {
          "output_type": "display_data",
          "data": {
            "text/plain": [
              "<Figure size 700x350 with 2 Axes>"
            ],
            "image/png": "[encoded data removed]"
          },
          "metadata": {}
        }
      ]
    },
    {
      "cell_type": "markdown",
      "source": [
        "#### **H1 and L1 combined data**"
      ],
      "metadata": {
        "id": "WbR7rCLbsow3"
      }
    },
    {
      "cell_type": "code",
      "source": [
        "# Train (70%) and Test (30%)\n",
        "Xall_train, Xall_test, yall_train, yall_test = train_test_split(H1L1_arr, classes, test_size=0.3, random_state=43)\n",
        "\n",
        "# Check dimensions\n",
        "Xall_train.shape, Xall_test.shape, yall_train.shape, yall_test.shape"
      ],
      "metadata": {
        "colab": {
          "base_uri": "https://localhost:8080/"
        },
        "outputId": "8ff02aba-1bc4-4954-d860-bd3ae85fba03",
        "id": "gTSww9oxtd2J"
      },
      "execution_count": null,
      "outputs": [
        {
          "output_type": "execute_result",
          "data": {
            "text/plain": [
              "((991, 48, 48, 2), (426, 48, 48, 2), (991,), (426,))"
            ]
          },
          "metadata": {},
          "execution_count": 18
        }
      ]
    },
    {
      "cell_type": "code",
      "source": [
        "# Train (90%) and Validation (10%)\n",
        "Xall_train, Xall_vali, yall_train, yall_vali = train_test_split(Xall_train, yall_train, test_size=0.1, random_state=43)\n",
        "\n",
        "# Check dimensions\n",
        "Xall_train.shape, Xall_vali.shape, yall_train.shape, yall_vali.shape"
      ],
      "metadata": {
        "colab": {
          "base_uri": "https://localhost:8080/"
        },
        "outputId": "39f49b8c-7db3-407d-dbe7-dd371670756a",
        "id": "SEOsnl51td2K"
      },
      "execution_count": null,
      "outputs": [
        {
          "output_type": "execute_result",
          "data": {
            "text/plain": [
              "((891, 48, 48, 2), (100, 48, 48, 2), (891,), (100,))"
            ]
          },
          "metadata": {},
          "execution_count": 19
        }
      ]
    },
    {
      "cell_type": "markdown",
      "source": [
        "## **Part 4: CNN architecture (LeNet)**"
      ],
      "metadata": {
        "id": "AztHij-9QlU6"
      }
    },
    {
      "cell_type": "markdown",
      "source": [
        "<div>\n",
        "<img src=\"https://drive.google.com/uc?id=1B8NoPWXWv5WwhLc59MYQ0z-MIBpF4eB3\" width=\"800\"/>\n",
        "</div>\n",
        "\n",
        "This is the basic architecture that we used for detecting CBC GW signals in Morales et al. 2021 (https://doi.org/10.3390/s21093174)"
      ],
      "metadata": {
        "id": "W4qrIKc-kY-D"
      }
    },
    {
      "cell_type": "code",
      "source": [
        "# Define CNN Classes\n",
        "class_names = ['Noise','Noise + CCSNeGW']"
      ],
      "metadata": {
        "id": "Rmk54rM71XPn"
      },
      "execution_count": null,
      "outputs": []
    },
    {
      "cell_type": "markdown",
      "source": [
        "## **Part 5: Single-interferometer data analysis**"
      ],
      "metadata": {
        "id": "Xv9xuEKHueLU"
      }
    },
    {
      "cell_type": "code",
      "metadata": {
        "id": "FJchaZKxXDic",
        "colab": {
          "base_uri": "https://localhost:8080/"
        },
        "outputId": "43199c0c-c22f-4bfc-b8c4-6d2de58187af"
      },
      "source": [
        "# ------> Build the CNN architecture (with three stacks)\n",
        "\n",
        "modelLeNet = keras.Sequential()\n",
        "\n",
        "# First stack\n",
        "modelLeNet.add(keras.layers.Conv2D(16, (3,3), padding = \"same\",\n",
        "                                   activation='relu', input_shape=(48, 48, 1)))\n",
        "modelLeNet.add(keras.layers.MaxPooling2D((2,2)))\n",
        "\n",
        "# Second stack\n",
        "modelLeNet.add(keras.layers.Conv2D(32 , (3,3) , activation='relu'))\n",
        "modelLeNet.add(keras.layers.MaxPooling2D((2,2)))\n",
        "\n",
        "# Third stack\n",
        "modelLeNet.add(keras.layers.Conv2D(64, (3,3) , activation='relu'))\n",
        "\n",
        "\n",
        "# Classification\n",
        "modelLeNet.add(keras.layers.Flatten())\n",
        "modelLeNet.add(keras.layers.Dense(64, activation='relu'))\n",
        "modelLeNet.add(keras.layers.Dense(2, activation='softmax'))\n",
        "\n",
        "# ------> Print the summary of the model\n",
        "\n",
        "modelLeNet.summary()"
      ],
      "execution_count": null,
      "outputs": [
        {
          "output_type": "stream",
          "name": "stdout",
          "text": [
            "Model: \"sequential\"\n",
            "_________________________________________________________________\n",
            " Layer (type)                Output Shape              Param #   \n",
            "=================================================================\n",
            " conv2d (Conv2D)             (None, 48, 48, 16)        160       \n",
            "                                                                 \n",
            " max_pooling2d (MaxPooling2D  (None, 24, 24, 16)       0         \n",
            " )                                                               \n",
            "                                                                 \n",
            " conv2d_1 (Conv2D)           (None, 22, 22, 32)        4640      \n",
            "                                                                 \n",
            " max_pooling2d_1 (MaxPooling  (None, 11, 11, 32)       0         \n",
            " 2D)                                                             \n",
            "                                                                 \n",
            " conv2d_2 (Conv2D)           (None, 9, 9, 64)          18496     \n",
            "                                                                 \n",
            " flatten (Flatten)           (None, 5184)              0         \n",
            "                                                                 \n",
            " dense (Dense)               (None, 64)                331840    \n",
            "                                                                 \n",
            " dense_1 (Dense)             (None, 2)                 130       \n",
            "                                                                 \n",
            "=================================================================\n",
            "Total params: 355,266\n",
            "Trainable params: 355,266\n",
            "Non-trainable params: 0\n",
            "_________________________________________________________________\n"
          ]
        }
      ]
    },
    {
      "cell_type": "code",
      "source": [
        "# ------> Train the LeNet model\n",
        "\n",
        "modelLeNet.compile(optimizer='sgd',\n",
        "               loss=keras.losses.sparse_categorical_crossentropy,\n",
        "               metrics=['accuracy'])\n",
        "\n",
        "history = modelLeNet.fit(X_train, y_train, batch_size = 28, epochs = 15, validation_data = (X_vali, y_vali))"
      ],
      "metadata": {
        "colab": {
          "base_uri": "https://localhost:8080/"
        },
        "id": "2dEVhW-5Yq1U",
        "outputId": "74096cc3-c134-47d7-b1cc-30f90236a5c8"
      },
      "execution_count": null,
      "outputs": [
        {
          "output_type": "stream",
          "name": "stdout",
          "text": [
            "Epoch 1/15\n",
            "32/32 [==============================] - 11s 22ms/step - loss: 2.6417 - accuracy: 0.8698 - val_loss: 0.4201 - val_accuracy: 0.8300\n",
            "Epoch 2/15\n",
            "32/32 [==============================] - 0s 5ms/step - loss: 0.3385 - accuracy: 0.8844 - val_loss: 0.3529 - val_accuracy: 0.8300\n",
            "Epoch 3/15\n",
            "32/32 [==============================] - 0s 5ms/step - loss: 0.2702 - accuracy: 0.8923 - val_loss: 0.2793 - val_accuracy: 0.8500\n",
            "Epoch 4/15\n",
            "32/32 [==============================] - 0s 5ms/step - loss: 0.2306 - accuracy: 0.9080 - val_loss: 0.2211 - val_accuracy: 0.9100\n",
            "Epoch 5/15\n",
            "32/32 [==============================] - 0s 5ms/step - loss: 0.2097 - accuracy: 0.9270 - val_loss: 0.2026 - val_accuracy: 0.9100\n",
            "Epoch 6/15\n",
            "32/32 [==============================] - 0s 6ms/step - loss: 0.1878 - accuracy: 0.9327 - val_loss: 0.1947 - val_accuracy: 0.9300\n",
            "Epoch 7/15\n",
            "32/32 [==============================] - 0s 5ms/step - loss: 0.1740 - accuracy: 0.9405 - val_loss: 0.1578 - val_accuracy: 0.9400\n",
            "Epoch 8/15\n",
            "32/32 [==============================] - 0s 5ms/step - loss: 0.1621 - accuracy: 0.9473 - val_loss: 0.1494 - val_accuracy: 0.9500\n",
            "Epoch 9/15\n",
            "32/32 [==============================] - 0s 5ms/step - loss: 0.1605 - accuracy: 0.9428 - val_loss: 0.2868 - val_accuracy: 0.9000\n",
            "Epoch 10/15\n",
            "32/32 [==============================] - 0s 5ms/step - loss: 0.1568 - accuracy: 0.9428 - val_loss: 0.1420 - val_accuracy: 0.9500\n",
            "Epoch 11/15\n",
            "32/32 [==============================] - 0s 5ms/step - loss: 0.1417 - accuracy: 0.9585 - val_loss: 0.1234 - val_accuracy: 0.9600\n",
            "Epoch 12/15\n",
            "32/32 [==============================] - 0s 5ms/step - loss: 0.1337 - accuracy: 0.9596 - val_loss: 0.1197 - val_accuracy: 0.9600\n",
            "Epoch 13/15\n",
            "32/32 [==============================] - 0s 6ms/step - loss: 0.1341 - accuracy: 0.9506 - val_loss: 0.1373 - val_accuracy: 0.9600\n",
            "Epoch 14/15\n",
            "32/32 [==============================] - 0s 8ms/step - loss: 0.1310 - accuracy: 0.9585 - val_loss: 0.1279 - val_accuracy: 0.9600\n",
            "Epoch 15/15\n",
            "32/32 [==============================] - 0s 7ms/step - loss: 0.1241 - accuracy: 0.9585 - val_loss: 0.1186 - val_accuracy: 0.9700\n"
          ]
        }
      ]
    },
    {
      "cell_type": "code",
      "source": [
        "# ------> Plot loss and accuracy during the training and validation\n",
        "\n",
        "# Loss\n",
        "loss = history.history['loss']\n",
        "val_loss = history.history['val_loss']\n",
        "\n",
        "# Accuracy\n",
        "acc = history.history['accuracy']\n",
        "val_acc = history.history['val_accuracy']\n",
        "\n",
        "# Epochs\n",
        "epochs = range(1, len(loss) + 1)\n",
        "\n",
        "# Plot the curves\n",
        "\n",
        "plt.figure(figsize=(6,3))\n",
        "plt.plot(epochs, loss, 'y', label='Training loss')\n",
        "plt.plot(epochs, val_loss, 'r', label='Validation loss')\n",
        "plt.title('Training and validation loss')\n",
        "plt.xlabel('Epochs')\n",
        "plt.ylabel('Loss')\n",
        "plt.legend()\n",
        "plt.grid()\n",
        "plt.show()\n",
        "\n",
        "plt.figure(figsize=(6,3))\n",
        "plt.plot(epochs, acc, 'y', label='Training acc')\n",
        "plt.plot(epochs, val_acc, 'r', label='Validation acc')\n",
        "plt.title('Training and validation accuracy')\n",
        "plt.xlabel('Epochs')\n",
        "plt.ylabel('Accuracy')\n",
        "plt.legend()\n",
        "plt.grid()\n",
        "plt.show()"
      ],
      "metadata": {
        "colab": {
          "base_uri": "https://localhost:8080/",
          "height": 597
        },
        "id": "tYdvY7KSNXuk",
        "outputId": "3eaf072d-911b-4adc-dcf4-6d81ab490660"
      },
      "execution_count": null,
      "outputs": [
        {
          "output_type": "display_data",
          "data": {
            "text/plain": [
              "<Figure size 600x300 with 1 Axes>"
            ],
            "image/png": "[encoded data removed]"
          },
          "metadata": {}
        },
        {
          "output_type": "display_data",
          "data": {
            "text/plain": [
              "<Figure size 600x300 with 1 Axes>"
            ],
            "image/png": "[encoded data removed]"
          },
          "metadata": {}
        }
      ]
    },
    {
      "cell_type": "code",
      "source": [
        "# ------> Compute test accuracy once applied the trained model\n",
        "\n",
        "test_loss, test_acc = modelLeNet.evaluate(X_test, y_test)\n",
        "print('Accuracy ', test_acc)"
      ],
      "metadata": {
        "colab": {
          "base_uri": "https://localhost:8080/"
        },
        "id": "fwI6UPpqbFXE",
        "outputId": "c7c4943e-17dc-44df-bef6-9dee836e270a"
      },
      "execution_count": null,
      "outputs": [
        {
          "output_type": "stream",
          "name": "stdout",
          "text": [
            "14/14 [==============================] - 0s 10ms/step - loss: 0.1565 - accuracy: 0.9554\n",
            "Accuracy  0.9553990364074707\n"
          ]
        }
      ]
    },
    {
      "cell_type": "code",
      "metadata": {
        "id": "36KcwUX8bf-n",
        "colab": {
          "base_uri": "https://localhost:8080/"
        },
        "outputId": "cac73b98-652d-483b-d6cb-73f10458aaec"
      },
      "source": [
        "# ------> Obtain prediccions of the model\n",
        "\n",
        "predictions = modelLeNet.predict(X_test)\n",
        "print(\"Predictions dim:\", predictions.shape)\n",
        "\n",
        "predicted_labels = np.zeros(len(predictions))\n",
        "\n",
        "for i in range(len(predictions)):\n",
        "    predicted_labels[i] = int(np.argmax(predictions[i]))\n",
        "print(\"Predicted labels dim:\", predicted_labels.shape)\n",
        "\n",
        "print(\"\")\n",
        "print(\"-----------------------\")\n",
        "print(\"For example, two predictions:\")\n",
        "print(\"\")\n",
        "print(\"prediction: \", predictions[0])\n",
        "print(\"predicted_label: \", predicted_labels[0])\n",
        "print(\"\")\n",
        "print(\"prediction: \", predictions[4])\n",
        "print(\"predicted_label: \", predicted_labels[4])"
      ],
      "execution_count": null,
      "outputs": [
        {
          "output_type": "stream",
          "name": "stdout",
          "text": [
            "14/14 [==============================] - 0s 3ms/step\n",
            "Predictions dim: (426, 2)\n",
            "Predicted labels dim: (426,)\n",
            "\n",
            "-----------------------\n",
            "For example, two predictions:\n",
            "\n",
            "prediction:  [0. 1.]\n",
            "predicted_label:  1.0\n",
            "\n",
            "prediction:  [0.9362641  0.06373584]\n",
            "predicted_label:  0.0\n"
          ]
        }
      ]
    },
    {
      "cell_type": "code",
      "source": [
        "# ------> Compute the confusion matrix\n",
        "\n",
        "predicted_labes = predicted_labels.astype(int)\n",
        "\n",
        "cnf_matrix = tf.math.confusion_matrix(\n",
        "    y_test, predicted_labels, num_classes=None, weights=None, dtype=tf.dtypes.int32,\n",
        "    name=None\n",
        ")\n",
        "print(cnf_matrix)"
      ],
      "metadata": {
        "colab": {
          "base_uri": "https://localhost:8080/"
        },
        "id": "xMKh3YUl0DyO",
        "outputId": "ddaacfb4-9045-4393-a566-ea5beaec5de1"
      },
      "execution_count": null,
      "outputs": [
        {
          "output_type": "stream",
          "name": "stdout",
          "text": [
            "tf.Tensor(\n",
            "[[188   6]\n",
            " [ 13 219]], shape=(2, 2), dtype=int32)\n"
          ]
        }
      ]
    },
    {
      "cell_type": "markdown",
      "source": [
        "## **Part 6: Combined H1 and L1 data analysis**"
      ],
      "metadata": {
        "id": "vtuabO2SunGk"
      }
    },
    {
      "cell_type": "code",
      "source": [
        "modelLeNetAll = keras.Sequential()\n",
        "\n",
        "# First stack\n",
        "modelLeNetAll.add(keras.layers.Conv2D(16, (3,3), padding = \"same\",\n",
        "                                   activation='relu', input_shape=(48, 48, 2))) # input shape changes to (48,48,2)\n",
        "modelLeNetAll.add(keras.layers.MaxPooling2D((2,2)))\n",
        "\n",
        "# Second stack\n",
        "modelLeNetAll.add(keras.layers.Conv2D(32 , (3,3) , activation='relu'))\n",
        "modelLeNetAll.add(keras.layers.MaxPooling2D((2,2)))\n",
        "\n",
        "# Third stack\n",
        "modelLeNetAll.add(keras.layers.Conv2D(64, (3,3) , activation='relu'))\n",
        "\n",
        "# Classification\n",
        "modelLeNetAll.add(keras.layers.Flatten())\n",
        "modelLeNetAll.add(keras.layers.Dense(64, activation='relu'))\n",
        "modelLeNetAll.add(keras.layers.Dense(2, activation='softmax'))\n",
        "\n",
        "modelLeNetAll.summary()"
      ],
      "metadata": {
        "colab": {
          "base_uri": "https://localhost:8080/"
        },
        "id": "bjhTuPObw2fb",
        "outputId": "e0b3cc76-1534-4e76-fcbb-8eaef50ee1b2"
      },
      "execution_count": null,
      "outputs": [
        {
          "output_type": "stream",
          "name": "stdout",
          "text": [
            "Model: \"sequential_1\"\n",
            "_________________________________________________________________\n",
            " Layer (type)                Output Shape              Param #   \n",
            "=================================================================\n",
            " conv2d_3 (Conv2D)           (None, 48, 48, 16)        304       \n",
            "                                                                 \n",
            " max_pooling2d_2 (MaxPooling  (None, 24, 24, 16)       0         \n",
            " 2D)                                                             \n",
            "                                                                 \n",
            " conv2d_4 (Conv2D)           (None, 22, 22, 32)        4640      \n",
            "                                                                 \n",
            " max_pooling2d_3 (MaxPooling  (None, 11, 11, 32)       0         \n",
            " 2D)                                                             \n",
            "                                                                 \n",
            " conv2d_5 (Conv2D)           (None, 9, 9, 64)          18496     \n",
            "                                                                 \n",
            " flatten_1 (Flatten)         (None, 5184)              0         \n",
            "                                                                 \n",
            " dense_2 (Dense)             (None, 64)                331840    \n",
            "                                                                 \n",
            " dense_3 (Dense)             (None, 2)                 130       \n",
            "                                                                 \n",
            "=================================================================\n",
            "Total params: 355,410\n",
            "Trainable params: 355,410\n",
            "Non-trainable params: 0\n",
            "_________________________________________________________________\n"
          ]
        }
      ]
    },
    {
      "cell_type": "code",
      "source": [
        "# ------> Train the LeNetAll model\n",
        "\n",
        "modelLeNetAll.compile(optimizer='sgd',\n",
        "               loss=keras.losses.sparse_categorical_crossentropy,\n",
        "               metrics=['accuracy'])\n",
        "\n",
        "historyAll = modelLeNetAll.fit(Xall_train, yall_train, batch_size = 28, epochs = 15, validation_data = (Xall_vali, yall_vali))"
      ],
      "metadata": {
        "id": "otnlwIj1lV6j",
        "colab": {
          "base_uri": "https://localhost:8080/"
        },
        "outputId": "74a5d53b-e07a-430e-83a0-52c76cdbcc80"
      },
      "execution_count": null,
      "outputs": [
        {
          "output_type": "stream",
          "name": "stdout",
          "text": [
            "Epoch 1/15\n",
            "32/32 [==============================] - 4s 98ms/step - loss: 2.6552 - accuracy: 0.8384 - val_loss: 0.3616 - val_accuracy: 0.8600\n",
            "Epoch 2/15\n",
            "32/32 [==============================] - 2s 63ms/step - loss: 0.3641 - accuracy: 0.9102 - val_loss: 0.3150 - val_accuracy: 0.8600\n",
            "Epoch 3/15\n",
            "32/32 [==============================] - 2s 61ms/step - loss: 0.2517 - accuracy: 0.9147 - val_loss: 0.2529 - val_accuracy: 0.9000\n",
            "Epoch 4/15\n",
            "32/32 [==============================] - 2s 60ms/step - loss: 0.2007 - accuracy: 0.9315 - val_loss: 0.2024 - val_accuracy: 0.9200\n",
            "Epoch 5/15\n",
            "32/32 [==============================] - 3s 90ms/step - loss: 1.1279 - accuracy: 0.9068 - val_loss: 0.3118 - val_accuracy: 0.9200\n",
            "Epoch 6/15\n",
            "32/32 [==============================] - 3s 107ms/step - loss: 0.4435 - accuracy: 0.9349 - val_loss: 0.3206 - val_accuracy: 0.8800\n",
            "Epoch 7/15\n",
            "32/32 [==============================] - 2s 68ms/step - loss: 0.2983 - accuracy: 0.9214 - val_loss: 0.3338 - val_accuracy: 0.8500\n",
            "Epoch 8/15\n",
            "32/32 [==============================] - 2s 61ms/step - loss: 0.2332 - accuracy: 0.9125 - val_loss: 0.2345 - val_accuracy: 0.9000\n",
            "Epoch 9/15\n",
            "32/32 [==============================] - 2s 58ms/step - loss: 0.1877 - accuracy: 0.9371 - val_loss: 0.1769 - val_accuracy: 0.9300\n",
            "Epoch 10/15\n",
            "32/32 [==============================] - 2s 61ms/step - loss: 0.1569 - accuracy: 0.9450 - val_loss: 0.1390 - val_accuracy: 0.9400\n",
            "Epoch 11/15\n",
            "32/32 [==============================] - 2s 61ms/step - loss: 0.1291 - accuracy: 0.9574 - val_loss: 0.0969 - val_accuracy: 0.9700\n",
            "Epoch 12/15\n",
            "32/32 [==============================] - 3s 84ms/step - loss: 0.1056 - accuracy: 0.9663 - val_loss: 0.0785 - val_accuracy: 0.9600\n",
            "Epoch 13/15\n",
            "32/32 [==============================] - 3s 78ms/step - loss: 0.0875 - accuracy: 0.9708 - val_loss: 0.0625 - val_accuracy: 0.9900\n",
            "Epoch 14/15\n",
            "32/32 [==============================] - 2s 58ms/step - loss: 0.0778 - accuracy: 0.9753 - val_loss: 0.0531 - val_accuracy: 0.9900\n",
            "Epoch 15/15\n",
            "32/32 [==============================] - 3s 83ms/step - loss: 0.0711 - accuracy: 0.9776 - val_loss: 0.0602 - val_accuracy: 0.9800\n"
          ]
        }
      ]
    },
    {
      "cell_type": "code",
      "source": [
        "# ------> Plot loss and accuracy during the training and validation\n",
        "\n",
        "# Loss\n",
        "loss = historyAll.history['loss']\n",
        "val_loss = historyAll.history['val_loss']\n",
        "\n",
        "# Accuracy\n",
        "acc = historyAll.history['accuracy']\n",
        "val_acc = historyAll.history['val_accuracy']\n",
        "\n",
        "# Epochs\n",
        "epochs = range(1, len(loss) + 1)\n",
        "\n",
        "# Plot the curves\n",
        "\n",
        "plt.figure(figsize=(6,3))\n",
        "plt.plot(epochs, loss, 'y', label='Training loss')\n",
        "plt.plot(epochs, val_loss, 'r', label='Validation loss')\n",
        "plt.title('Training and validation loss')\n",
        "plt.xlabel('Epochs')\n",
        "plt.ylabel('Loss')\n",
        "plt.legend()\n",
        "plt.grid()\n",
        "plt.show()\n",
        "\n",
        "plt.figure(figsize=(6,3))\n",
        "plt.plot(epochs, acc, 'y', label='Training acc')\n",
        "plt.plot(epochs, val_acc, 'r', label='Validation acc')\n",
        "plt.title('Training and validation accuracy')\n",
        "plt.xlabel('Epochs')\n",
        "plt.ylabel('Accuracy')\n",
        "plt.legend()\n",
        "plt.grid()\n",
        "plt.show()"
      ],
      "metadata": {
        "colab": {
          "base_uri": "https://localhost:8080/",
          "height": 597
        },
        "outputId": "7b258177-08e8-4156-fc4e-80c6f037240b",
        "id": "RipGGhCV58QV"
      },
      "execution_count": null,
      "outputs": [
        {
          "output_type": "display_data",
          "data": {
            "text/plain": [
              "<Figure size 600x300 with 1 Axes>"
            ],
            "image/png": "[encoded data removed]"
          },
          "metadata": {}
        },
        {
          "output_type": "display_data",
          "data": {
            "text/plain": [
              "<Figure size 600x300 with 1 Axes>"
            ],
            "image/png": "[encoded data removed]"
          },
          "metadata": {}
        }
      ]
    },
    {
      "cell_type": "code",
      "source": [
        "# ------> Compute test accuracy once applied the trained model\n",
        "\n",
        "test_loss, test_acc = modelLeNetAll.evaluate(Xall_test, yall_test)\n",
        "print('Accuracy ', test_acc)"
      ],
      "metadata": {
        "colab": {
          "base_uri": "https://localhost:8080/"
        },
        "outputId": "6ef3d4f2-5e90-415b-fb37-882ff063560d",
        "id": "V2eINzMV58QX"
      },
      "execution_count": null,
      "outputs": [
        {
          "output_type": "stream",
          "name": "stdout",
          "text": [
            "14/14 [==============================] - 0s 21ms/step - loss: 0.5819 - accuracy: 0.9695\n",
            "Accuracy  0.9694835543632507\n"
          ]
        }
      ]
    },
    {
      "cell_type": "code",
      "metadata": {
        "colab": {
          "base_uri": "https://localhost:8080/"
        },
        "outputId": "e40227c4-2d1c-4707-c8f4-3127cfc2eed0",
        "id": "Srrlduwd58QZ"
      },
      "source": [
        "# ------> Obtain prediccions of the model\n",
        "\n",
        "predictions = modelLeNetAll.predict(Xall_test)\n",
        "print(\"Predictions dim:\", predictions.shape)\n",
        "\n",
        "predicted_labels = np.zeros(len(predictions))\n",
        "\n",
        "for i in range(len(predictions)):\n",
        "    predicted_labels[i] = int(np.argmax(predictions[i]))\n",
        "print(\"Predicted labels dim:\", predicted_labels.shape)"
      ],
      "execution_count": null,
      "outputs": [
        {
          "output_type": "stream",
          "name": "stdout",
          "text": [
            "14/14 [==============================] - 0s 21ms/step\n",
            "Predictions dim: (426, 2)\n",
            "Predicted labels dim: (426,)\n"
          ]
        }
      ]
    },
    {
      "cell_type": "code",
      "source": [
        "# ------> Compute the confusion matrix\n",
        "\n",
        "predicted_labes = predicted_labels.astype(int)\n",
        "\n",
        "cnf_matrix = tf.math.confusion_matrix(\n",
        "    yall_test, predicted_labels, num_classes=None, weights=None, dtype=tf.dtypes.int32,\n",
        "    name=None\n",
        ")\n",
        "print(cnf_matrix)"
      ],
      "metadata": {
        "colab": {
          "base_uri": "https://localhost:8080/"
        },
        "outputId": "7c9b5971-414b-4ffc-8dce-76b54a16fd1a",
        "id": "CM1vmgBj58Qb"
      },
      "execution_count": null,
      "outputs": [
        {
          "output_type": "stream",
          "name": "stdout",
          "text": [
            "tf.Tensor(\n",
            "[[191   3]\n",
            " [ 10 222]], shape=(2, 2), dtype=int32)\n"
          ]
        }
      ]
    },
    {
      "cell_type": "code",
      "source": [],
      "metadata": {
        "id": "Wn1Jp8BTmuaC"
      },
      "execution_count": null,
      "outputs": []
    }
  ]
}